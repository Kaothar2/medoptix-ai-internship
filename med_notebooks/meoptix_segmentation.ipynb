{
 "cells": [
  {
   "cell_type": "markdown",
   "id": "4ffe3ebc",
   "metadata": {},
   "source": [
    "# STEP 1. Patient Segmentation "
   ]
  },
  {
   "cell_type": "markdown",
   "id": "515ac39f",
   "metadata": {},
   "source": [
    "- step 1a. define the patients( who they're aka feature)\n",
    "- step 1b. define the patients sessions"
   ]
  },
  {
   "cell_type": "markdown",
   "id": "dafbae17",
   "metadata": {},
   "source": []
  },
  {
   "cell_type": "markdown",
   "id": "63d2209c",
   "metadata": {},
   "source": [
    "#### These are all necessary libraries for:\n",
    "\n",
    "- Data processing (pandas, numpy, sklearn)\n",
    "\n",
    "- Preprocessing (Pipeline, Imputer, Scaler)\n",
    "\n",
    "- Clustering (DBSCAN, KMeans)\n",
    "\n",
    "- Dimensionality reduction (PCA, TSNE)\n",
    "\n",
    "- Plotting (matplotlib)\n",
    "\n"
   ]
  },
  {
   "cell_type": "code",
   "execution_count": 1,
   "id": "ae964651",
   "metadata": {},
   "outputs": [],
   "source": [
    "import pandas as pd\n",
    "from sklearn.pipeline import Pipeline\n",
    "from sklearn.preprocessing import OneHotEncoder, RobustScaler\n",
    "from sklearn.impute import SimpleImputer\n",
    "from sklearn.compose import ColumnTransformer\n",
    "from sklearn.decomposition import PCA\n",
    "from sklearn.cluster import DBSCAN, KMeans\n",
    "from sklearn.metrics import silhouette_score\n",
    "from sklearn.manifold import TSNE\n",
    "import matplotlib.pyplot as plt\n",
    "import numpy as np"
   ]
  },
  {
   "cell_type": "code",
   "execution_count": 3,
   "id": "610f17e7",
   "metadata": {},
   "outputs": [
    {
     "name": "stdout",
     "output_type": "stream",
     "text": [
      "Patients: (5000, 12)\n",
      "Sessions: (70236, 10)\n",
      "Feedback: (49165, 4)\n",
      "Clinics: (8, 9)\n",
      "Interventions: (5016, 6)\n",
      "Dropout Flags: (5000, 3)\n"
     ]
    }
   ],
   "source": [
    "import os\n",
    "\n",
    "# Define the path where you saved the processed CSVs\n",
    "data_path = r\"C:\\Users\\kaoth\\OneDrive\\Desktop\\Data Science Lectures\\Machine Learning\\Amdari Internship\\medoptix-ai-internship\\medoptix_data\\processed\"\n",
    "\n",
    "# Load each dataset\n",
    "patients_df = pd.read_csv(os.path.join(data_path, \"patients.csv\"))\n",
    "sessions_df = pd.read_csv(os.path.join(data_path, \"sessions.csv\"))\n",
    "feedback_df = pd.read_csv(os.path.join(data_path, \"feedback.csv\"))\n",
    "clinics_df = pd.read_csv(os.path.join(data_path, \"clinics.csv\"))\n",
    "interventions_df = pd.read_csv(os.path.join(data_path, \"interventions.csv\"))\n",
    "dropout_df = pd.read_csv(os.path.join(data_path, \"dropout_flags.csv\"))\n",
    "\n",
    "# Quick check\n",
    "print(\"Patients:\", patients_df.shape)\n",
    "print(\"Sessions:\", sessions_df.shape)\n",
    "print(\"Feedback:\", feedback_df.shape)\n",
    "print(\"Clinics:\", clinics_df.shape)\n",
    "print(\"Interventions:\", interventions_df.shape)\n",
    "print(\"Dropout Flags:\", dropout_df.shape)\n"
   ]
  },
  {
   "cell_type": "code",
   "execution_count": 4,
   "id": "11547683",
   "metadata": {},
   "outputs": [
    {
     "data": {
      "application/vnd.microsoft.datawrangler.viewer.v0+json": {
       "columns": [
        {
         "name": "patient_id",
         "rawType": "int64",
         "type": "integer"
        },
        {
         "name": "n_sessions",
         "rawType": "int64",
         "type": "integer"
        },
        {
         "name": "avg_session_duration",
         "rawType": "float64",
         "type": "float"
        },
        {
         "name": "first_week",
         "rawType": "UInt32",
         "type": "integer"
        },
        {
         "name": "last_week",
         "rawType": "UInt32",
         "type": "integer"
        },
        {
         "name": "mean_pain",
         "rawType": "float64",
         "type": "float"
        },
        {
         "name": "mean_pain_delta",
         "rawType": "float64",
         "type": "float"
        }
       ],
       "ref": "a231d705-a36b-4e11-a1cf-491d11f47d15",
       "rows": [
        [
         "1",
         "20",
         "41.75",
         "18",
         "29",
         "2.15",
         "-0.2631578947368421"
        ],
        [
         "2",
         "8",
         "33.875",
         "4",
         "52",
         "2.25",
         "-0.5714285714285714"
        ],
        [
         "3",
         "17",
         "41.470588235294116",
         "1",
         "51",
         "2.4705882352941178",
         "-0.3125"
        ]
       ],
       "shape": {
        "columns": 6,
        "rows": 3
       }
      },
      "text/html": [
       "<div>\n",
       "<style scoped>\n",
       "    .dataframe tbody tr th:only-of-type {\n",
       "        vertical-align: middle;\n",
       "    }\n",
       "\n",
       "    .dataframe tbody tr th {\n",
       "        vertical-align: top;\n",
       "    }\n",
       "\n",
       "    .dataframe thead th {\n",
       "        text-align: right;\n",
       "    }\n",
       "</style>\n",
       "<table border=\"1\" class=\"dataframe\">\n",
       "  <thead>\n",
       "    <tr style=\"text-align: right;\">\n",
       "      <th></th>\n",
       "      <th>n_sessions</th>\n",
       "      <th>avg_session_duration</th>\n",
       "      <th>first_week</th>\n",
       "      <th>last_week</th>\n",
       "      <th>mean_pain</th>\n",
       "      <th>mean_pain_delta</th>\n",
       "    </tr>\n",
       "    <tr>\n",
       "      <th>patient_id</th>\n",
       "      <th></th>\n",
       "      <th></th>\n",
       "      <th></th>\n",
       "      <th></th>\n",
       "      <th></th>\n",
       "      <th></th>\n",
       "    </tr>\n",
       "  </thead>\n",
       "  <tbody>\n",
       "    <tr>\n",
       "      <th>1</th>\n",
       "      <td>20</td>\n",
       "      <td>41.750000</td>\n",
       "      <td>18</td>\n",
       "      <td>29</td>\n",
       "      <td>2.150000</td>\n",
       "      <td>-0.263158</td>\n",
       "    </tr>\n",
       "    <tr>\n",
       "      <th>2</th>\n",
       "      <td>8</td>\n",
       "      <td>33.875000</td>\n",
       "      <td>4</td>\n",
       "      <td>52</td>\n",
       "      <td>2.250000</td>\n",
       "      <td>-0.571429</td>\n",
       "    </tr>\n",
       "    <tr>\n",
       "      <th>3</th>\n",
       "      <td>17</td>\n",
       "      <td>41.470588</td>\n",
       "      <td>1</td>\n",
       "      <td>51</td>\n",
       "      <td>2.470588</td>\n",
       "      <td>-0.312500</td>\n",
       "    </tr>\n",
       "  </tbody>\n",
       "</table>\n",
       "</div>"
      ],
      "text/plain": [
       "            n_sessions  avg_session_duration  first_week  last_week  \\\n",
       "patient_id                                                            \n",
       "1                   20             41.750000          18         29   \n",
       "2                    8             33.875000           4         52   \n",
       "3                   17             41.470588           1         51   \n",
       "\n",
       "            mean_pain  mean_pain_delta  \n",
       "patient_id                              \n",
       "1            2.150000        -0.263158  \n",
       "2            2.250000        -0.571429  \n",
       "3            2.470588        -0.312500  "
      ]
     },
     "execution_count": 4,
     "metadata": {},
     "output_type": "execute_result"
    }
   ],
   "source": [
    "# step 1b --- Define the sessions the patients had in relations to the therapy (EXTRA FEATURE ENGINEERING)-- Dynamic dataset\n",
    "\n",
    "# Ensure sessions_df has \"week\" column derived from date\n",
    "sessions_df['date'] = pd.to_datetime(sessions_df['date'])\n",
    "sessions_df['week'] = sessions_df['date'].dt.isocalendar().week\n",
    "\n",
    "sess_agg = (\n",
    "    sessions_df\n",
    "    .sort_values(['patient_id', 'date'])\n",
    "    .assign(pain_delta=lambda d: d.groupby(\"patient_id\")[\"pain_level\"].diff())\n",
    "    .groupby(\"patient_id\")\n",
    "    .agg(\n",
    "        n_sessions=(\"session_id\", \"count\"),\n",
    "        avg_session_duration=(\"duration\", \"mean\"),\n",
    "        first_week=(\"week\", \"min\"),\n",
    "        last_week=(\"week\", \"max\"),\n",
    "        mean_pain=(\"pain_level\", \"mean\"),\n",
    "        mean_pain_delta=(\"pain_delta\", \"mean\")\n",
    "        # Optional: Add more if 'home_adherence_pc' or 'satisfaction' exist\n",
    "    )\n",
    ")\n",
    "\n",
    "sess_agg.head(3)"
   ]
  },
  {
   "cell_type": "markdown",
   "id": "921ccc9a",
   "metadata": {},
   "source": [
    "#### Interpretation\n",
    "\n",
    "- n_sessions: Total number of sessions attended by the patient.\n",
    "- avg_session_duration: Average duration of their sessions.\n",
    "- first_week: The week number of their first session.\n",
    "- last_week: The week number of their last session.\n",
    "- mean_pain: Average pain level reported across sessions.\n",
    "- mean_pain_delta: Average change in pain level between sessions."
   ]
  },
  {
   "cell_type": "code",
   "execution_count": 13,
   "id": "6bf8ee85",
   "metadata": {},
   "outputs": [
    {
     "data": {
      "application/vnd.microsoft.datawrangler.viewer.v0+json": {
       "columns": [
        {
         "name": "patient_id",
         "rawType": "int64",
         "type": "integer"
        },
        {
         "name": "age",
         "rawType": "int64",
         "type": "integer"
        },
        {
         "name": "gender",
         "rawType": "object",
         "type": "string"
        },
        {
         "name": "bmi",
         "rawType": "float64",
         "type": "float"
        },
        {
         "name": "smoker",
         "rawType": "bool",
         "type": "boolean"
        },
        {
         "name": "chronic_cond",
         "rawType": "object",
         "type": "unknown"
        },
        {
         "name": "injury_type",
         "rawType": "object",
         "type": "string"
        },
        {
         "name": "signup_date",
         "rawType": "object",
         "type": "string"
        },
        {
         "name": "referral_source",
         "rawType": "object",
         "type": "string"
        },
        {
         "name": "consent",
         "rawType": "bool",
         "type": "boolean"
        },
        {
         "name": "clinic_id",
         "rawType": "int64",
         "type": "integer"
        },
        {
         "name": "insurance_type",
         "rawType": "object",
         "type": "string"
        }
       ],
       "ref": "344930c4-b09e-48fd-9945-c7200f471ac8",
       "rows": [
        [
         "172",
         "66",
         "Male",
         "17.9",
         "False",
         null,
         "Shoulder",
         "2024-12-15 00:12:44.286283",
         "Self-Referral",
         "True",
         "1",
         "Public"
        ],
        [
         "173",
         "70",
         "Female",
         "25.2",
         "False",
         null,
         "Hip",
         "2024-07-03 00:12:44.286283",
         "Self-Referral",
         "True",
         "1",
         "Private-Top-Up"
        ],
        [
         "174",
         "48",
         "Female",
         "22.2",
         "False",
         null,
         "Back",
         "2025-04-16 00:12:44.286283",
         "Self-Referral",
         "True",
         "5",
         "Private-Top-Up"
        ]
       ],
       "shape": {
        "columns": 11,
        "rows": 3
       }
      },
      "text/html": [
       "<div>\n",
       "<style scoped>\n",
       "    .dataframe tbody tr th:only-of-type {\n",
       "        vertical-align: middle;\n",
       "    }\n",
       "\n",
       "    .dataframe tbody tr th {\n",
       "        vertical-align: top;\n",
       "    }\n",
       "\n",
       "    .dataframe thead th {\n",
       "        text-align: right;\n",
       "    }\n",
       "</style>\n",
       "<table border=\"1\" class=\"dataframe\">\n",
       "  <thead>\n",
       "    <tr style=\"text-align: right;\">\n",
       "      <th></th>\n",
       "      <th>age</th>\n",
       "      <th>gender</th>\n",
       "      <th>bmi</th>\n",
       "      <th>smoker</th>\n",
       "      <th>chronic_cond</th>\n",
       "      <th>injury_type</th>\n",
       "      <th>signup_date</th>\n",
       "      <th>referral_source</th>\n",
       "      <th>consent</th>\n",
       "      <th>clinic_id</th>\n",
       "      <th>insurance_type</th>\n",
       "    </tr>\n",
       "    <tr>\n",
       "      <th>patient_id</th>\n",
       "      <th></th>\n",
       "      <th></th>\n",
       "      <th></th>\n",
       "      <th></th>\n",
       "      <th></th>\n",
       "      <th></th>\n",
       "      <th></th>\n",
       "      <th></th>\n",
       "      <th></th>\n",
       "      <th></th>\n",
       "      <th></th>\n",
       "    </tr>\n",
       "  </thead>\n",
       "  <tbody>\n",
       "    <tr>\n",
       "      <th>172</th>\n",
       "      <td>66</td>\n",
       "      <td>Male</td>\n",
       "      <td>17.9</td>\n",
       "      <td>False</td>\n",
       "      <td>NaN</td>\n",
       "      <td>Shoulder</td>\n",
       "      <td>2024-12-15 00:12:44.286283</td>\n",
       "      <td>Self-Referral</td>\n",
       "      <td>True</td>\n",
       "      <td>1</td>\n",
       "      <td>Public</td>\n",
       "    </tr>\n",
       "    <tr>\n",
       "      <th>173</th>\n",
       "      <td>70</td>\n",
       "      <td>Female</td>\n",
       "      <td>25.2</td>\n",
       "      <td>False</td>\n",
       "      <td>NaN</td>\n",
       "      <td>Hip</td>\n",
       "      <td>2024-07-03 00:12:44.286283</td>\n",
       "      <td>Self-Referral</td>\n",
       "      <td>True</td>\n",
       "      <td>1</td>\n",
       "      <td>Private-Top-Up</td>\n",
       "    </tr>\n",
       "    <tr>\n",
       "      <th>174</th>\n",
       "      <td>48</td>\n",
       "      <td>Female</td>\n",
       "      <td>22.2</td>\n",
       "      <td>False</td>\n",
       "      <td>NaN</td>\n",
       "      <td>Back</td>\n",
       "      <td>2025-04-16 00:12:44.286283</td>\n",
       "      <td>Self-Referral</td>\n",
       "      <td>True</td>\n",
       "      <td>5</td>\n",
       "      <td>Private-Top-Up</td>\n",
       "    </tr>\n",
       "  </tbody>\n",
       "</table>\n",
       "</div>"
      ],
      "text/plain": [
       "            age  gender   bmi  smoker chronic_cond injury_type  \\\n",
       "patient_id                                                       \n",
       "172          66    Male  17.9   False          NaN    Shoulder   \n",
       "173          70  Female  25.2   False          NaN         Hip   \n",
       "174          48  Female  22.2   False          NaN        Back   \n",
       "\n",
       "                           signup_date referral_source  consent  clinic_id  \\\n",
       "patient_id                                                                   \n",
       "172         2024-12-15 00:12:44.286283   Self-Referral     True          1   \n",
       "173         2024-07-03 00:12:44.286283   Self-Referral     True          1   \n",
       "174         2025-04-16 00:12:44.286283   Self-Referral     True          5   \n",
       "\n",
       "            insurance_type  \n",
       "patient_id                  \n",
       "172                 Public  \n",
       "173         Private-Top-Up  \n",
       "174         Private-Top-Up  "
      ]
     },
     "execution_count": 13,
     "metadata": {},
     "output_type": "execute_result"
    }
   ],
   "source": [
    "# step 1c Define the patients (static dataset)\n",
    "pat_sel = patients_df.set_index(\"patient_id\")\n",
    "\n",
    "pat_sel.head(3)"
   ]
  },
  {
   "cell_type": "code",
   "execution_count": 16,
   "id": "45e731f6",
   "metadata": {},
   "outputs": [
    {
     "data": {
      "application/vnd.microsoft.datawrangler.viewer.v0+json": {
       "columns": [
        {
         "name": "patient_id",
         "rawType": "int64",
         "type": "integer"
        },
        {
         "name": "age",
         "rawType": "int64",
         "type": "integer"
        },
        {
         "name": "gender",
         "rawType": "object",
         "type": "string"
        },
        {
         "name": "bmi",
         "rawType": "float64",
         "type": "float"
        },
        {
         "name": "smoker",
         "rawType": "bool",
         "type": "boolean"
        },
        {
         "name": "chronic_cond",
         "rawType": "object",
         "type": "unknown"
        },
        {
         "name": "injury_type",
         "rawType": "object",
         "type": "string"
        },
        {
         "name": "signup_date",
         "rawType": "object",
         "type": "string"
        },
        {
         "name": "referral_source",
         "rawType": "object",
         "type": "string"
        },
        {
         "name": "consent",
         "rawType": "bool",
         "type": "boolean"
        },
        {
         "name": "clinic_id",
         "rawType": "int64",
         "type": "integer"
        },
        {
         "name": "insurance_type",
         "rawType": "object",
         "type": "string"
        },
        {
         "name": "n_sessions",
         "rawType": "int64",
         "type": "integer"
        },
        {
         "name": "avg_session_duration",
         "rawType": "float64",
         "type": "float"
        },
        {
         "name": "first_week",
         "rawType": "UInt32",
         "type": "integer"
        },
        {
         "name": "last_week",
         "rawType": "UInt32",
         "type": "integer"
        },
        {
         "name": "mean_pain",
         "rawType": "float64",
         "type": "float"
        },
        {
         "name": "mean_pain_delta",
         "rawType": "float64",
         "type": "float"
        }
       ],
       "ref": "ce157cdd-a2f6-4214-b1b0-b8993f5e2b89",
       "rows": [
        [
         "172",
         "66",
         "Male",
         "17.9",
         "False",
         null,
         "Shoulder",
         "2024-12-15 00:12:44.286283",
         "Self-Referral",
         "True",
         "1",
         "Public",
         "12",
         "38.583333333333336",
         "1",
         "52",
         "1.8333333333333333",
         "-0.36363636363636365"
        ],
        [
         "173",
         "70",
         "Female",
         "25.2",
         "False",
         null,
         "Hip",
         "2024-07-03 00:12:44.286283",
         "Self-Referral",
         "True",
         "1",
         "Private-Top-Up",
         "16",
         "41.75",
         "27",
         "38",
         "2.1875",
         "-0.3333333333333333"
        ],
        [
         "174",
         "48",
         "Female",
         "22.2",
         "False",
         null,
         "Back",
         "2025-04-16 00:12:44.286283",
         "Self-Referral",
         "True",
         "5",
         "Private-Top-Up",
         "14",
         "42.0",
         "16",
         "27",
         "1.5",
         "-0.15384615384615385"
        ]
       ],
       "shape": {
        "columns": 17,
        "rows": 3
       }
      },
      "text/html": [
       "<div>\n",
       "<style scoped>\n",
       "    .dataframe tbody tr th:only-of-type {\n",
       "        vertical-align: middle;\n",
       "    }\n",
       "\n",
       "    .dataframe tbody tr th {\n",
       "        vertical-align: top;\n",
       "    }\n",
       "\n",
       "    .dataframe thead th {\n",
       "        text-align: right;\n",
       "    }\n",
       "</style>\n",
       "<table border=\"1\" class=\"dataframe\">\n",
       "  <thead>\n",
       "    <tr style=\"text-align: right;\">\n",
       "      <th></th>\n",
       "      <th>age</th>\n",
       "      <th>gender</th>\n",
       "      <th>bmi</th>\n",
       "      <th>smoker</th>\n",
       "      <th>chronic_cond</th>\n",
       "      <th>injury_type</th>\n",
       "      <th>signup_date</th>\n",
       "      <th>referral_source</th>\n",
       "      <th>consent</th>\n",
       "      <th>clinic_id</th>\n",
       "      <th>insurance_type</th>\n",
       "      <th>n_sessions</th>\n",
       "      <th>avg_session_duration</th>\n",
       "      <th>first_week</th>\n",
       "      <th>last_week</th>\n",
       "      <th>mean_pain</th>\n",
       "      <th>mean_pain_delta</th>\n",
       "    </tr>\n",
       "    <tr>\n",
       "      <th>patient_id</th>\n",
       "      <th></th>\n",
       "      <th></th>\n",
       "      <th></th>\n",
       "      <th></th>\n",
       "      <th></th>\n",
       "      <th></th>\n",
       "      <th></th>\n",
       "      <th></th>\n",
       "      <th></th>\n",
       "      <th></th>\n",
       "      <th></th>\n",
       "      <th></th>\n",
       "      <th></th>\n",
       "      <th></th>\n",
       "      <th></th>\n",
       "      <th></th>\n",
       "      <th></th>\n",
       "    </tr>\n",
       "  </thead>\n",
       "  <tbody>\n",
       "    <tr>\n",
       "      <th>172</th>\n",
       "      <td>66</td>\n",
       "      <td>Male</td>\n",
       "      <td>17.9</td>\n",
       "      <td>False</td>\n",
       "      <td>NaN</td>\n",
       "      <td>Shoulder</td>\n",
       "      <td>2024-12-15 00:12:44.286283</td>\n",
       "      <td>Self-Referral</td>\n",
       "      <td>True</td>\n",
       "      <td>1</td>\n",
       "      <td>Public</td>\n",
       "      <td>12</td>\n",
       "      <td>38.583333</td>\n",
       "      <td>1</td>\n",
       "      <td>52</td>\n",
       "      <td>1.833333</td>\n",
       "      <td>-0.363636</td>\n",
       "    </tr>\n",
       "    <tr>\n",
       "      <th>173</th>\n",
       "      <td>70</td>\n",
       "      <td>Female</td>\n",
       "      <td>25.2</td>\n",
       "      <td>False</td>\n",
       "      <td>NaN</td>\n",
       "      <td>Hip</td>\n",
       "      <td>2024-07-03 00:12:44.286283</td>\n",
       "      <td>Self-Referral</td>\n",
       "      <td>True</td>\n",
       "      <td>1</td>\n",
       "      <td>Private-Top-Up</td>\n",
       "      <td>16</td>\n",
       "      <td>41.750000</td>\n",
       "      <td>27</td>\n",
       "      <td>38</td>\n",
       "      <td>2.187500</td>\n",
       "      <td>-0.333333</td>\n",
       "    </tr>\n",
       "    <tr>\n",
       "      <th>174</th>\n",
       "      <td>48</td>\n",
       "      <td>Female</td>\n",
       "      <td>22.2</td>\n",
       "      <td>False</td>\n",
       "      <td>NaN</td>\n",
       "      <td>Back</td>\n",
       "      <td>2025-04-16 00:12:44.286283</td>\n",
       "      <td>Self-Referral</td>\n",
       "      <td>True</td>\n",
       "      <td>5</td>\n",
       "      <td>Private-Top-Up</td>\n",
       "      <td>14</td>\n",
       "      <td>42.000000</td>\n",
       "      <td>16</td>\n",
       "      <td>27</td>\n",
       "      <td>1.500000</td>\n",
       "      <td>-0.153846</td>\n",
       "    </tr>\n",
       "  </tbody>\n",
       "</table>\n",
       "</div>"
      ],
      "text/plain": [
       "            age  gender   bmi  smoker chronic_cond injury_type  \\\n",
       "patient_id                                                       \n",
       "172          66    Male  17.9   False          NaN    Shoulder   \n",
       "173          70  Female  25.2   False          NaN         Hip   \n",
       "174          48  Female  22.2   False          NaN        Back   \n",
       "\n",
       "                           signup_date referral_source  consent  clinic_id  \\\n",
       "patient_id                                                                   \n",
       "172         2024-12-15 00:12:44.286283   Self-Referral     True          1   \n",
       "173         2024-07-03 00:12:44.286283   Self-Referral     True          1   \n",
       "174         2025-04-16 00:12:44.286283   Self-Referral     True          5   \n",
       "\n",
       "            insurance_type  n_sessions  avg_session_duration  first_week  \\\n",
       "patient_id                                                                 \n",
       "172                 Public          12             38.583333           1   \n",
       "173         Private-Top-Up          16             41.750000          27   \n",
       "174         Private-Top-Up          14             42.000000          16   \n",
       "\n",
       "            last_week  mean_pain  mean_pain_delta  \n",
       "patient_id                                         \n",
       "172                52   1.833333        -0.363636  \n",
       "173                38   2.187500        -0.333333  \n",
       "174                27   1.500000        -0.153846  "
      ]
     },
     "execution_count": 16,
     "metadata": {},
     "output_type": "execute_result"
    }
   ],
   "source": [
    "# step 1d -- join static dataset + dynamice (Behvaioral features)\n",
    "\n",
    "X_raw = pat_sel.join(sess_agg, how=\"left\")\n",
    "X_raw.head(3)"
   ]
  },
  {
   "cell_type": "markdown",
   "id": "72de5de3",
   "metadata": {},
   "source": [
    "\n",
    "\n",
    "This table provides a comprehensive view of each patient's characteristics and their therapy engagement, which is useful for further analysis, clustering, or predictive modeling."
   ]
  },
  {
   "cell_type": "code",
   "execution_count": 17,
   "id": "237609f6",
   "metadata": {},
   "outputs": [],
   "source": [
    "# step 1e Label engineering & encoding \n",
    "\n",
    "# patient static attributes ----- define what describes a patient\n",
    "pat_sel = patients_df[\n",
    "    [\n",
    "        \"patient_id\",\n",
    "        \"age\",\n",
    "        \"gender\",\n",
    "        \"bmi\",\n",
    "        \"smoker\",\n",
    "        \"chronic_cond\",\n",
    "        \"injury_type\",\n",
    "        \"referral_source\",\n",
    "        \"insurance_type\"\n",
    "    ]\n",
    "].set_index(\"patient_id\")\n",
    "\n",
    "\n",
    "# label engineering (attach the drop out flags to the patient)\n",
    "# use labels as your source of truth which we'd later use in prediction (who dropped out or not)\n",
    "label = dropout_df.set_index(\"patient_id\").dropout "
   ]
  },
  {
   "cell_type": "code",
   "execution_count": 18,
   "id": "44dda89b",
   "metadata": {},
   "outputs": [
    {
     "data": {
      "application/vnd.microsoft.datawrangler.viewer.v0+json": {
       "columns": [
        {
         "name": "patient_id",
         "rawType": "int64",
         "type": "integer"
        },
        {
         "name": "age",
         "rawType": "int64",
         "type": "integer"
        },
        {
         "name": "gender",
         "rawType": "object",
         "type": "string"
        },
        {
         "name": "bmi",
         "rawType": "float64",
         "type": "float"
        },
        {
         "name": "smoker",
         "rawType": "bool",
         "type": "boolean"
        },
        {
         "name": "chronic_cond",
         "rawType": "object",
         "type": "unknown"
        },
        {
         "name": "injury_type",
         "rawType": "object",
         "type": "string"
        },
        {
         "name": "signup_date",
         "rawType": "object",
         "type": "string"
        },
        {
         "name": "referral_source",
         "rawType": "object",
         "type": "string"
        },
        {
         "name": "consent",
         "rawType": "bool",
         "type": "boolean"
        },
        {
         "name": "clinic_id",
         "rawType": "int64",
         "type": "integer"
        },
        {
         "name": "insurance_type",
         "rawType": "object",
         "type": "string"
        },
        {
         "name": "n_sessions",
         "rawType": "int64",
         "type": "integer"
        },
        {
         "name": "avg_session_duration",
         "rawType": "float64",
         "type": "float"
        },
        {
         "name": "first_week",
         "rawType": "UInt32",
         "type": "integer"
        },
        {
         "name": "last_week",
         "rawType": "UInt32",
         "type": "integer"
        },
        {
         "name": "mean_pain",
         "rawType": "float64",
         "type": "float"
        },
        {
         "name": "mean_pain_delta",
         "rawType": "float64",
         "type": "float"
        }
       ],
       "ref": "584127cb-fd7d-4ccc-9c48-8061bc2d87c5",
       "rows": [
        [
         "172",
         "66",
         "Male",
         "17.9",
         "False",
         null,
         "Shoulder",
         "2024-12-15 00:12:44.286283",
         "Self-Referral",
         "True",
         "1",
         "Public",
         "12",
         "38.583333333333336",
         "1",
         "52",
         "1.8333333333333333",
         "-0.36363636363636365"
        ],
        [
         "173",
         "70",
         "Female",
         "25.2",
         "False",
         null,
         "Hip",
         "2024-07-03 00:12:44.286283",
         "Self-Referral",
         "True",
         "1",
         "Private-Top-Up",
         "16",
         "41.75",
         "27",
         "38",
         "2.1875",
         "-0.3333333333333333"
        ]
       ],
       "shape": {
        "columns": 17,
        "rows": 2
       }
      },
      "text/html": [
       "<div>\n",
       "<style scoped>\n",
       "    .dataframe tbody tr th:only-of-type {\n",
       "        vertical-align: middle;\n",
       "    }\n",
       "\n",
       "    .dataframe tbody tr th {\n",
       "        vertical-align: top;\n",
       "    }\n",
       "\n",
       "    .dataframe thead th {\n",
       "        text-align: right;\n",
       "    }\n",
       "</style>\n",
       "<table border=\"1\" class=\"dataframe\">\n",
       "  <thead>\n",
       "    <tr style=\"text-align: right;\">\n",
       "      <th></th>\n",
       "      <th>age</th>\n",
       "      <th>gender</th>\n",
       "      <th>bmi</th>\n",
       "      <th>smoker</th>\n",
       "      <th>chronic_cond</th>\n",
       "      <th>injury_type</th>\n",
       "      <th>signup_date</th>\n",
       "      <th>referral_source</th>\n",
       "      <th>consent</th>\n",
       "      <th>clinic_id</th>\n",
       "      <th>insurance_type</th>\n",
       "      <th>n_sessions</th>\n",
       "      <th>avg_session_duration</th>\n",
       "      <th>first_week</th>\n",
       "      <th>last_week</th>\n",
       "      <th>mean_pain</th>\n",
       "      <th>mean_pain_delta</th>\n",
       "    </tr>\n",
       "    <tr>\n",
       "      <th>patient_id</th>\n",
       "      <th></th>\n",
       "      <th></th>\n",
       "      <th></th>\n",
       "      <th></th>\n",
       "      <th></th>\n",
       "      <th></th>\n",
       "      <th></th>\n",
       "      <th></th>\n",
       "      <th></th>\n",
       "      <th></th>\n",
       "      <th></th>\n",
       "      <th></th>\n",
       "      <th></th>\n",
       "      <th></th>\n",
       "      <th></th>\n",
       "      <th></th>\n",
       "      <th></th>\n",
       "    </tr>\n",
       "  </thead>\n",
       "  <tbody>\n",
       "    <tr>\n",
       "      <th>172</th>\n",
       "      <td>66</td>\n",
       "      <td>Male</td>\n",
       "      <td>17.9</td>\n",
       "      <td>False</td>\n",
       "      <td>NaN</td>\n",
       "      <td>Shoulder</td>\n",
       "      <td>2024-12-15 00:12:44.286283</td>\n",
       "      <td>Self-Referral</td>\n",
       "      <td>True</td>\n",
       "      <td>1</td>\n",
       "      <td>Public</td>\n",
       "      <td>12</td>\n",
       "      <td>38.583333</td>\n",
       "      <td>1</td>\n",
       "      <td>52</td>\n",
       "      <td>1.833333</td>\n",
       "      <td>-0.363636</td>\n",
       "    </tr>\n",
       "    <tr>\n",
       "      <th>173</th>\n",
       "      <td>70</td>\n",
       "      <td>Female</td>\n",
       "      <td>25.2</td>\n",
       "      <td>False</td>\n",
       "      <td>NaN</td>\n",
       "      <td>Hip</td>\n",
       "      <td>2024-07-03 00:12:44.286283</td>\n",
       "      <td>Self-Referral</td>\n",
       "      <td>True</td>\n",
       "      <td>1</td>\n",
       "      <td>Private-Top-Up</td>\n",
       "      <td>16</td>\n",
       "      <td>41.750000</td>\n",
       "      <td>27</td>\n",
       "      <td>38</td>\n",
       "      <td>2.187500</td>\n",
       "      <td>-0.333333</td>\n",
       "    </tr>\n",
       "  </tbody>\n",
       "</table>\n",
       "</div>"
      ],
      "text/plain": [
       "            age  gender   bmi  smoker chronic_cond injury_type  \\\n",
       "patient_id                                                       \n",
       "172          66    Male  17.9   False          NaN    Shoulder   \n",
       "173          70  Female  25.2   False          NaN         Hip   \n",
       "\n",
       "                           signup_date referral_source  consent  clinic_id  \\\n",
       "patient_id                                                                   \n",
       "172         2024-12-15 00:12:44.286283   Self-Referral     True          1   \n",
       "173         2024-07-03 00:12:44.286283   Self-Referral     True          1   \n",
       "\n",
       "            insurance_type  n_sessions  avg_session_duration  first_week  \\\n",
       "patient_id                                                                 \n",
       "172                 Public          12             38.583333           1   \n",
       "173         Private-Top-Up          16             41.750000          27   \n",
       "\n",
       "            last_week  mean_pain  mean_pain_delta  \n",
       "patient_id                                         \n",
       "172                52   1.833333        -0.363636  \n",
       "173                38   2.187500        -0.333333  "
      ]
     },
     "execution_count": 18,
     "metadata": {},
     "output_type": "execute_result"
    }
   ],
   "source": [
    "X_raw.head(2)"
   ]
  },
  {
   "cell_type": "code",
   "execution_count": 19,
   "id": "e0867dbf",
   "metadata": {},
   "outputs": [
    {
     "data": {
      "application/vnd.microsoft.datawrangler.viewer.v0+json": {
       "columns": [
        {
         "name": "patient_id",
         "rawType": "int64",
         "type": "integer"
        },
        {
         "name": "gender",
         "rawType": "string",
         "type": "string"
        },
        {
         "name": "smoker",
         "rawType": "string",
         "type": "string"
        },
        {
         "name": "chronic_cond",
         "rawType": "string",
         "type": "string"
        },
        {
         "name": "injury_type",
         "rawType": "string",
         "type": "string"
        }
       ],
       "ref": "bfe3db7a-7422-486e-a896-a79d8629e7d2",
       "rows": [
        [
         "172",
         "Male",
         "False",
         null,
         "Shoulder"
        ],
        [
         "173",
         "Female",
         "False",
         null,
         "Hip"
        ],
        [
         "174",
         "Female",
         "False",
         null,
         "Back"
        ],
        [
         "175",
         "Female",
         "False",
         null,
         "Knee"
        ],
        [
         "176",
         "Male",
         "False",
         null,
         "Neck"
        ],
        [
         "177",
         "Female",
         "False",
         null,
         "Neck"
        ],
        [
         "178",
         "Male",
         "False",
         "Hypertension",
         "Neck"
        ],
        [
         "179",
         "Male",
         "True",
         null,
         "Neck"
        ],
        [
         "180",
         "Female",
         "False",
         null,
         "Shoulder"
        ],
        [
         "181",
         "Female",
         "False",
         null,
         "Shoulder"
        ],
        [
         "182",
         "Female",
         "False",
         null,
         "Neck"
        ],
        [
         "183",
         "Male",
         "True",
         null,
         "Neck"
        ],
        [
         "184",
         "Female",
         "True",
         "Diabetes",
         "Shoulder"
        ],
        [
         "185",
         "Female",
         "False",
         null,
         "Knee"
        ],
        [
         "186",
         "Male",
         "False",
         null,
         "Ankle"
        ],
        [
         "187",
         "Female",
         "False",
         null,
         "Back"
        ],
        [
         "188",
         "Male",
         "False",
         null,
         "Back"
        ],
        [
         "189",
         "Male",
         "False",
         null,
         "Knee"
        ],
        [
         "190",
         "Female",
         "False",
         "Diabetes",
         "Back"
        ],
        [
         "191",
         "Female",
         "False",
         null,
         "Shoulder"
        ],
        [
         "192",
         "Male",
         "True",
         "Hypertension",
         "Back"
        ],
        [
         "193",
         "Male",
         "True",
         null,
         "Shoulder"
        ],
        [
         "194",
         "Male",
         "False",
         null,
         "Knee"
        ],
        [
         "195",
         "Female",
         "False",
         null,
         "Back"
        ],
        [
         "196",
         "Male",
         "False",
         null,
         "Back"
        ],
        [
         "197",
         "Female",
         "False",
         null,
         "Shoulder"
        ],
        [
         "198",
         "Female",
         "True",
         "Hypertension",
         "Neck"
        ],
        [
         "199",
         "Male",
         "True",
         "Hypertension",
         "Knee"
        ],
        [
         "200",
         "Female",
         "False",
         null,
         "Back"
        ],
        [
         "201",
         "Female",
         "False",
         null,
         "Back"
        ],
        [
         "202",
         "Female",
         "False",
         "Hypertension",
         "Back"
        ],
        [
         "203",
         "Male",
         "False",
         null,
         "Back"
        ],
        [
         "204",
         "Male",
         "True",
         null,
         "Hip"
        ],
        [
         "205",
         "Male",
         "False",
         "Hypertension",
         "Back"
        ],
        [
         "206",
         "Female",
         "False",
         null,
         "Back"
        ],
        [
         "207",
         "Female",
         "False",
         null,
         "Ankle"
        ],
        [
         "208",
         "Male",
         "False",
         null,
         "Shoulder"
        ],
        [
         "209",
         "Male",
         "False",
         null,
         "Knee"
        ],
        [
         "210",
         "Female",
         "False",
         null,
         "Shoulder"
        ],
        [
         "211",
         "Male",
         "False",
         "Diabetes",
         "Hip"
        ],
        [
         "212",
         "Male",
         "False",
         null,
         "Back"
        ],
        [
         "213",
         "Female",
         "False",
         null,
         "Back"
        ],
        [
         "214",
         "Male",
         "False",
         null,
         "Ankle"
        ],
        [
         "215",
         "Male",
         "False",
         "Hypertension",
         "Neck"
        ],
        [
         "216",
         "Male",
         "False",
         null,
         "Hip"
        ],
        [
         "217",
         "Male",
         "False",
         "Diabetes",
         "Knee"
        ],
        [
         "218",
         "Female",
         "False",
         null,
         "Hip"
        ],
        [
         "219",
         "Female",
         "False",
         null,
         "Knee"
        ],
        [
         "220",
         "Female",
         "True",
         null,
         "Neck"
        ],
        [
         "221",
         "Male",
         "False",
         null,
         "Ankle"
        ]
       ],
       "shape": {
        "columns": 4,
        "rows": 5000
       }
      },
      "text/html": [
       "<div>\n",
       "<style scoped>\n",
       "    .dataframe tbody tr th:only-of-type {\n",
       "        vertical-align: middle;\n",
       "    }\n",
       "\n",
       "    .dataframe tbody tr th {\n",
       "        vertical-align: top;\n",
       "    }\n",
       "\n",
       "    .dataframe thead th {\n",
       "        text-align: right;\n",
       "    }\n",
       "</style>\n",
       "<table border=\"1\" class=\"dataframe\">\n",
       "  <thead>\n",
       "    <tr style=\"text-align: right;\">\n",
       "      <th></th>\n",
       "      <th>gender</th>\n",
       "      <th>smoker</th>\n",
       "      <th>chronic_cond</th>\n",
       "      <th>injury_type</th>\n",
       "    </tr>\n",
       "    <tr>\n",
       "      <th>patient_id</th>\n",
       "      <th></th>\n",
       "      <th></th>\n",
       "      <th></th>\n",
       "      <th></th>\n",
       "    </tr>\n",
       "  </thead>\n",
       "  <tbody>\n",
       "    <tr>\n",
       "      <th>172</th>\n",
       "      <td>Male</td>\n",
       "      <td>False</td>\n",
       "      <td>&lt;NA&gt;</td>\n",
       "      <td>Shoulder</td>\n",
       "    </tr>\n",
       "    <tr>\n",
       "      <th>173</th>\n",
       "      <td>Female</td>\n",
       "      <td>False</td>\n",
       "      <td>&lt;NA&gt;</td>\n",
       "      <td>Hip</td>\n",
       "    </tr>\n",
       "    <tr>\n",
       "      <th>174</th>\n",
       "      <td>Female</td>\n",
       "      <td>False</td>\n",
       "      <td>&lt;NA&gt;</td>\n",
       "      <td>Back</td>\n",
       "    </tr>\n",
       "    <tr>\n",
       "      <th>175</th>\n",
       "      <td>Female</td>\n",
       "      <td>False</td>\n",
       "      <td>&lt;NA&gt;</td>\n",
       "      <td>Knee</td>\n",
       "    </tr>\n",
       "    <tr>\n",
       "      <th>176</th>\n",
       "      <td>Male</td>\n",
       "      <td>False</td>\n",
       "      <td>&lt;NA&gt;</td>\n",
       "      <td>Neck</td>\n",
       "    </tr>\n",
       "    <tr>\n",
       "      <th>...</th>\n",
       "      <td>...</td>\n",
       "      <td>...</td>\n",
       "      <td>...</td>\n",
       "      <td>...</td>\n",
       "    </tr>\n",
       "    <tr>\n",
       "      <th>4996</th>\n",
       "      <td>Female</td>\n",
       "      <td>True</td>\n",
       "      <td>Diabetes</td>\n",
       "      <td>Back</td>\n",
       "    </tr>\n",
       "    <tr>\n",
       "      <th>4997</th>\n",
       "      <td>Female</td>\n",
       "      <td>False</td>\n",
       "      <td>&lt;NA&gt;</td>\n",
       "      <td>Shoulder</td>\n",
       "    </tr>\n",
       "    <tr>\n",
       "      <th>4998</th>\n",
       "      <td>Female</td>\n",
       "      <td>False</td>\n",
       "      <td>&lt;NA&gt;</td>\n",
       "      <td>Back</td>\n",
       "    </tr>\n",
       "    <tr>\n",
       "      <th>4999</th>\n",
       "      <td>Male</td>\n",
       "      <td>False</td>\n",
       "      <td>&lt;NA&gt;</td>\n",
       "      <td>Knee</td>\n",
       "    </tr>\n",
       "    <tr>\n",
       "      <th>5000</th>\n",
       "      <td>Male</td>\n",
       "      <td>False</td>\n",
       "      <td>&lt;NA&gt;</td>\n",
       "      <td>Ankle</td>\n",
       "    </tr>\n",
       "  </tbody>\n",
       "</table>\n",
       "<p>5000 rows × 4 columns</p>\n",
       "</div>"
      ],
      "text/plain": [
       "            gender smoker chronic_cond injury_type\n",
       "patient_id                                        \n",
       "172           Male  False         <NA>    Shoulder\n",
       "173         Female  False         <NA>         Hip\n",
       "174         Female  False         <NA>        Back\n",
       "175         Female  False         <NA>        Knee\n",
       "176           Male  False         <NA>        Neck\n",
       "...            ...    ...          ...         ...\n",
       "4996        Female   True     Diabetes        Back\n",
       "4997        Female  False         <NA>    Shoulder\n",
       "4998        Female  False         <NA>        Back\n",
       "4999          Male  False         <NA>        Knee\n",
       "5000          Male  False         <NA>       Ankle\n",
       "\n",
       "[5000 rows x 4 columns]"
      ]
     },
     "execution_count": 19,
     "metadata": {},
     "output_type": "execute_result"
    }
   ],
   "source": [
    "#step 1f  Data Pipeline --- compress all your data preprocessing step into one pipeline \n",
    "\n",
    "# step 1f-i -- Define your numeric columns and Categorical columns (non-numeric)\n",
    "\n",
    "\n",
    "# looking out for high dimensions in your data \n",
    "# looking out for  density of your data\n",
    "num_col = [                                  # manual dimension reduction is as a result of your correlation analyis\n",
    "    \"age\", \"bmi\",\n",
    "    \"n_sessions\", \"avg_session_duration\",\n",
    "    \"mean_pain\", \"mean_pain_delta\"\n",
    "]\n",
    "\n",
    "cat_col = [\n",
    "    \"gender\", \"smoker\",\n",
    "    \"chronic_cond\", \"injury_type\"\n",
    "]\n",
    "\n",
    "X_raw[cat_col].astype(\"string\")  # casting categorical data"
   ]
  },
  {
   "cell_type": "code",
   "execution_count": 20,
   "id": "d8f2fc93",
   "metadata": {},
   "outputs": [],
   "source": [
    "# step 1g - Preprocessing with the pipeline \n",
    "# Numeric features: Missing values → median, then scaled.\n",
    "# Categorical: Missing values → mode, then one-hot encoded.\n",
    "\n",
    "\n",
    "from sklearn.pipeline import Pipeline\n",
    "from sklearn.preprocessing import OneHotEncoder, RobustScaler\n",
    "from sklearn.impute import SimpleImputer\n",
    "from sklearn.compose import ColumnTransformer\n",
    "\n",
    "\n",
    "numeric_pipe = Pipeline(\n",
    "    steps=[\n",
    "        (\"imputer\", SimpleImputer(strategy=\"median\")),\n",
    "        (\"scalar\", RobustScaler())\n",
    "    ]\n",
    ")\n",
    "\n",
    "\n",
    "\n",
    "categorical_pipe = Pipeline(\n",
    "    steps=[\n",
    "        (\"imputer\", SimpleImputer(strategy=\"most_frequent\")),\n",
    "        (\"onhot\", OneHotEncoder(handle_unknown=\"ignore\", sparse_output=False))\n",
    "    ]\n",
    ")\n"
   ]
  },
  {
   "cell_type": "code",
   "execution_count": 21,
   "id": "fedcb207",
   "metadata": {},
   "outputs": [
    {
     "name": "stdout",
     "output_type": "stream",
     "text": [
      "<class 'sklearn.compose._column_transformer.ColumnTransformer'>\n"
     ]
    }
   ],
   "source": [
    "#### Column Transformer \n",
    "# ColumnTransformer applies each to their respective columns.\n",
    "\n",
    "preproc = ColumnTransformer(\n",
    "    transformers= [\n",
    "        (\"num\", numeric_pipe, num_col),\n",
    "        (\"cat\", categorical_pipe, cat_col)\n",
    "    ]\n",
    ")\n",
    "\n",
    "print(type(preproc))"
   ]
  },
  {
   "cell_type": "code",
   "execution_count": 22,
   "id": "f7764773",
   "metadata": {},
   "outputs": [],
   "source": [
    "# model our data\n",
    "X_clean = preproc.fit_transform(X_raw)"
   ]
  },
  {
   "cell_type": "code",
   "execution_count": 23,
   "id": "d5759b9f",
   "metadata": {},
   "outputs": [],
   "source": [
    "# auto dimension reduction \n",
    "# PCA to help us retain the variance of our features \n",
    "pca = PCA(n_components=0.85, random_state=45)\n",
    "\n",
    "X_reduced = pca.fit_transform(X_clean)"
   ]
  },
  {
   "cell_type": "markdown",
   "id": "54f60605",
   "metadata": {},
   "source": [
    "### step h:  clustering\n",
    " - define K-means\n",
    " \n",
    " - ELbow \n",
    " - silhouette\n",
    " - choose K & get your cluster\n",
    " - DBSCAN & t-SNE plot\n",
    " - PCA --- 2D dimensional overview of our clusters\n",
    " - Answer Dropout question (\"fast_imporver\", \"steady progresser\", \"frustrated_droppers\")"
   ]
  },
  {
   "cell_type": "markdown",
   "id": "ea296c4e",
   "metadata": {},
   "source": []
  },
  {
   "cell_type": "code",
   "execution_count": 24,
   "id": "9388a0a5",
   "metadata": {},
   "outputs": [
    {
     "name": "stdout",
     "output_type": "stream",
     "text": [
      "DBSCAN VALID-CLUSTER Silhoutee score 0.441\n"
     ]
    }
   ],
   "source": [
    "# DBSCAN \n",
    "# Applying DBSCAN to our cleaned data\n",
    "\n",
    "from sklearn.cluster import DBSCAN\n",
    "import matplotlib.pyplot as plt\n",
    "import numpy as np\n",
    "\n",
    "\n",
    "# define our DBSCAN algorithm\n",
    "eps = 1.5     # whats the distance between each patient in a cluster should be\n",
    "min_samples =3          # define the minimum number of border points\n",
    "db = DBSCAN(eps=eps, min_samples=min_samples).fit(X_reduced)\n",
    "db_labels = db.labels_\n",
    "\n",
    "\n",
    "# filtered valid points or clusters (excluded the noise points)\n",
    "valid_labels = db_labels != -1\n",
    "\n",
    "\n",
    "\n",
    "# Rule of thumb : \n",
    "# silhoutee score  should be between 1, 0 or -1 \n",
    "# if your score is above 0 and close to 1 ----- cluster is in a very good shape\n",
    "# if your score is 0 ---- cluster good but could be improved \n",
    "# if your score is less than 0 ---- the cluster is not in a good shape\n",
    "\n",
    "# calculate the silhoutee score\n",
    "##checking to see based on our eps/min_samples can we get a cluster out of our data?\n",
    "# make sure or ensure when you fina atleast one cluster : give us the silhoutee score\n",
    "if valid_labels.sum() > 1 :                      \n",
    "    sil_db = silhouette_score(X_reduced[valid_labels], db_labels[valid_labels])\n",
    "    print(f\"DBSCAN VALID-CLUSTER Silhoutee score {sil_db:.3f}\")\n",
    "else:\n",
    "    print(\"Not enought cluster to be derived\")\n"
   ]
  },
  {
   "cell_type": "code",
   "execution_count": 25,
   "id": "61adc6f1",
   "metadata": {},
   "outputs": [
    {
     "data": {
      "text/plain": [
       "<matplotlib.colorbar.Colorbar at 0x1efa34c2f30>"
      ]
     },
     "execution_count": 25,
     "metadata": {},
     "output_type": "execute_result"
    },
    {
     "data": {
      "image/png": "[encoded data removed]",
      "text/plain": [
       "<Figure size 800x600 with 2 Axes>"
      ]
     },
     "metadata": {},
     "output_type": "display_data"
    }
   ],
   "source": [
    "# plot DBSCAN\n",
    "\n",
    "plt.figure(figsize=(8,6))\n",
    "plt.scatter(X_reduced[:, 0], X_reduced[:, 1], c=db_labels, cmap='viridis', s=50)\n",
    "plt.colorbar(label='Cluster ID')"
   ]
  },
  {
   "cell_type": "markdown",
   "id": "f4e58593",
   "metadata": {},
   "source": [
    "\n",
    "##### define our k \n",
    "\n",
    "- group the patients into meaningful persona\n",
    "\n",
    "    - step h-i ---- loop through a range of k (assumptions)\n",
    "    - step h-ii ---- plotting the elbow \n",
    "    - step h-iii - plotting the silhoutee\n",
    "    - step h-iv ---- decision making & choosing of k\n",
    "\n",
    "\n",
    "\n"
   ]
  },
  {
   "cell_type": "code",
   "execution_count": 26,
   "id": "b5c8a451",
   "metadata": {},
   "outputs": [],
   "source": [
    "# step h-1 : define a function (Search for K)\n",
    "from sklearn.cluster import KMeans \n",
    "from sklearn.metrics import silhouette_score\n",
    "import  matplotlib.pyplot as plt\n",
    "\n",
    "def k_search(X, k_range=range(2,11)):\n",
    "    wcss, sils = [], []\n",
    "    \n",
    "    for k in k_range:                    # loop through the range of k\n",
    "        km = KMeans(\n",
    "            n_clusters= k,\n",
    "            init = \"k-means++\",          # First centroid start start far apart \n",
    "            n_init= \"auto\",\n",
    "            random_state= 42,\n",
    "            algorithm = \"lloyd\",\n",
    "        )\n",
    "        preds = km.fit_predict(X)           # runs the algorithm & returns a cluster id for each patient\n",
    "        wcss.append(km.inertia_)            # Elbows tension inside clusters  AKA rubber band effect \n",
    "        sils.append(silhouette_score(X, preds))  # Silhouteee hows seperate & compact each point is \n",
    "    return wcss, sils"
   ]
  },
  {
   "cell_type": "code",
   "execution_count": 27,
   "id": "2e6f9197",
   "metadata": {},
   "outputs": [
    {
     "data": {
      "text/plain": [
       "Text(0, 0.5, 'WCSS')"
      ]
     },
     "execution_count": 27,
     "metadata": {},
     "output_type": "execute_result"
    },
    {
     "data": {
      "image/png": "[encoded data removed]",
      "text/plain": [
       "<Figure size 640x480 with 1 Axes>"
      ]
     },
     "metadata": {},
     "output_type": "display_data"
    }
   ],
   "source": [
    "# step h-ii : Plot our elbow and silhouteee\n",
    "wcss , sils = k_search(X_reduced)\n",
    "\n",
    "plt.figure; plt.plot(range(2,11), wcss, 'o-')\n",
    "plt.title(\"ELBOW\")\n",
    "plt.xlabel(\"k\"); plt.ylabel(\"WCSS\")"
   ]
  },
  {
   "cell_type": "code",
   "execution_count": 28,
   "id": "fd90f3d4",
   "metadata": {},
   "outputs": [
    {
     "data": {
      "text/plain": [
       "Text(0, 0.5, 'silhoutee score')"
      ]
     },
     "execution_count": 28,
     "metadata": {},
     "output_type": "execute_result"
    },
    {
     "data": {
      "image/png": "[encoded data removed]",
      "text/plain": [
       "<Figure size 640x480 with 1 Axes>"
      ]
     },
     "metadata": {},
     "output_type": "display_data"
    }
   ],
   "source": [
    "# step h-iii plotting the silhoutee\n",
    "\n",
    "plt.figure; plt.plot(range(2,11),sils, 'o-')\n",
    "plt.title(\"SILHOUTEE\")\n",
    "plt.xlabel(\"k\"); plt.ylabel(\"silhoutee score\")"
   ]
  },
  {
   "cell_type": "markdown",
   "id": "37fc3f22",
   "metadata": {},
   "source": [
    "###### Rule of thumb : pick the smallet k past the elbow and hwos silhoutee closer to the KPI (e.g business >=0.6)"
   ]
  },
  {
   "cell_type": "markdown",
   "id": "50e7617e",
   "metadata": {},
   "source": []
  },
  {
   "cell_type": "code",
   "execution_count": 29,
   "id": "522983d1",
   "metadata": {},
   "outputs": [],
   "source": [
    "# step h-iv Choose our k = 4\n",
    "\n",
    "import numpy as np\n",
    "from sklearn.cluster import DBSCAN\n",
    "from sklearn.metrics import silhouette_score\n",
    "from sklearn.neighbors import NearestNeighbors\n",
    "\n",
    "\n",
    "k_OPT = 3\n",
    "k_means = KMeans(\n",
    "    n_clusters=k_OPT, n_init=\"auto\",\n",
    "    random_state=42, algorithm=\"lloyd\"\n",
    ")\n",
    "clusters = k_means.fit_predict(X_reduced)\n"
   ]
  },
  {
   "cell_type": "code",
   "execution_count": null,
   "id": "e10c86f1",
   "metadata": {},
   "outputs": [],
   "source": [
    "# # DBSCAN ---- catch any extra outliers \n",
    "# knn = NearestNeighbors(n_neighbors=4).fit(X_pre)\n",
    "# dists = np.sort(knn.kneighbors(X_pre)[0][:,-1])\n",
    "\n",
    "# plt.figure(); plt.plot(dists, 'o-'); plt.title(\"4-NN distance - choose E\"); plt.show()"
   ]
  },
  {
   "cell_type": "code",
   "execution_count": 30,
   "id": "4223ef93",
   "metadata": {},
   "outputs": [
    {
     "data": {
      "image/png": "[encoded data removed]",
      "text/plain": [
       "<Figure size 500x400 with 1 Axes>"
      ]
     },
     "metadata": {},
     "output_type": "display_data"
    },
    {
     "data": {
      "image/png": "[encoded data removed]",
      "text/plain": [
       "<Figure size 500x400 with 1 Axes>"
      ]
     },
     "metadata": {},
     "output_type": "display_data"
    }
   ],
   "source": [
    "# ---------------- PCA / t-SNE visual -----------------------\n",
    "from sklearn.decomposition import PCA\n",
    "from sklearn.manifold      import TSNE\n",
    "\n",
    "pca2  = PCA(n_components=2, random_state=42).fit_transform(X_reduced)\n",
    "tsne2 = TSNE(n_components=2, perplexity=40,\n",
    "             init=\"pca\", random_state=42).fit_transform(X_reduced)\n",
    "\n",
    "def scatter_2d(mat, labels, title):\n",
    "    plt.figure(figsize=(5, 4))\n",
    "    plt.scatter(mat[:, 0], mat[:, 1], c=labels, alpha=0.6, s=10)\n",
    "    plt.title(title); plt.axis(\"off\")\n",
    "\n",
    "scatter_2d(pca2,  clusters, \"PCA – coloured by K-Means cluster\")\n",
    "scatter_2d(tsne2, clusters, \"t-SNE – coloured by K-Means cluster\")"
   ]
  },
  {
   "cell_type": "code",
   "execution_count": 32,
   "id": "b558c7b3",
   "metadata": {},
   "outputs": [
    {
     "name": "stdout",
     "output_type": "stream",
     "text": [
      "         mean_pain_delta  n_sessions  dropout  avg_session_duration  mean_pain\n",
      "cluster                                                                       \n",
      "0                  -0.23       13.59     0.02                 40.72       1.63\n",
      "1                  -0.30       15.66     0.00                 38.81       2.06\n",
      "2                  -0.50       10.77     0.05                 39.56       2.31\n"
     ]
    }
   ],
   "source": [
    "\n",
    "# Step 1: Attach cluster labels back to the raw patient data\n",
    "X_labeled = X_raw.copy()\n",
    "X_labeled['cluster'] = clusters\n",
    "X_labeled['dropout'] = label  # from dropout_df[\"dropout\"]\n",
    "\n",
    "# Step 2: Analyze the clusters\n",
    "cluster_summary = X_labeled.groupby(\"cluster\").agg({\n",
    "    \"mean_pain_delta\": \"mean\",\n",
    "    \"n_sessions\": \"mean\",\n",
    "    \"dropout\": \"mean\",\n",
    "    \"avg_session_duration\": \"mean\",\n",
    "    \"mean_pain\": \"mean\"\n",
    "}).round(2)\n",
    "\n",
    "print(cluster_summary)\n"
   ]
  },
  {
   "cell_type": "markdown",
   "id": "08e400c6",
   "metadata": {},
   "source": [
    "### Based on the table above:\n",
    "\n",
    "## Cluster 0:\n",
    "- Slight improvement in pain (-0.23).\n",
    "- High session count (13.6) and low dropout (2%).\n",
    "- Longest session durations (~41 mins).\n",
    "- Lowest average pain (1.63).\n",
    "\n",
    "👉 Interpretation: These are committed patients, attending many long sessions and already starting at a low pain level, so their improvement appears smaller.\n",
    "🔖 Label suggestion: \"Steady Progressors\"\n",
    "\n",
    "## Cluster 1:\n",
    "- Moderate improvement in pain (-0.30).\n",
    "- Highest number of sessions (15.7), zero dropout, and moderate duration.\n",
    "- Moderate initial pain (2.06).\n",
    "\n",
    "👉 Interpretation: Very engaged patients, highly consistent, fully compliant. Pain is decreasing steadily.\n",
    "🔖 Label suggestion: \"Fast Improvers\"\n",
    "\n",
    "\n",
    "\n",
    "## Cluster 2:\n",
    "- Most pain improvement (-0.50) but with:\n",
    "- Fewer sessions (10.8)\n",
    "- Highest dropout rate (5%)\n",
    "- Highest starting pain (2.31)\n",
    "\n",
    "👉 Interpretation: These patients came in with more pain, showed biggest short-term gains, but didn’t stay long enough. Possibly dropped out due to early frustration or life constraints.\n",
    "🔖 Label suggestion: \"Frustrated Droppers\""
   ]
  },
  {
   "cell_type": "code",
   "execution_count": 35,
   "id": "faeae2dc",
   "metadata": {},
   "outputs": [],
   "source": [
    "cluster_map = {\n",
    "    0: \"Steady Progressors\",\n",
    "    1: \"Fast Improvers\",\n",
    "    2: \"Frustrated Droppers\"\n",
    "}\n"
   ]
  },
  {
   "cell_type": "code",
   "execution_count": 43,
   "id": "e027033d",
   "metadata": {},
   "outputs": [
    {
     "name": "stderr",
     "output_type": "stream",
     "text": [
      "C:\\Users\\kaoth\\AppData\\Local\\Temp\\ipykernel_25264\\417071300.py:11: FutureWarning: \n",
      "\n",
      "The `ci` parameter is deprecated. Use `errorbar=None` for the same effect.\n",
      "\n",
      "  sns.barplot(data=X_labeled, x='persona', y='mean_pain_delta', ci=None)\n"
     ]
    },
    {
     "data": {
      "image/png": "[encoded data removed]",
      "text/plain": [
       "<Figure size 600x400 with 1 Axes>"
      ]
     },
     "metadata": {},
     "output_type": "display_data"
    },
    {
     "name": "stdout",
     "output_type": "stream",
     "text": [
      "               persona  mean_pain_delta\n",
      "0       Fast Improvers        -0.299482\n",
      "1  Frustrated Droppers        -0.497821\n",
      "2   Steady Progressors        -0.228343\n"
     ]
    }
   ],
   "source": [
    "# Bar Plot: Mean Pain Delta per Cluster\n",
    "import seaborn as sns\n",
    "import matplotlib.pyplot as plt\n",
    "\n",
    "\n",
    "# Create a new column 'persona' with the mapped labels\n",
    "X_labeled['persona'] = X_labeled['cluster'].map(cluster_map)\n",
    "\n",
    "# Bar Plot: Mean Pain Delta per Persona\n",
    "plt.figure(figsize=(6, 4))\n",
    "sns.barplot(data=X_labeled, x='persona', y='mean_pain_delta', ci=None)\n",
    "plt.title('Average Pain Improvement per Persona')\n",
    "plt.ylabel('Mean Pain Delta')\n",
    "plt.xlabel('Persona')\n",
    "\n",
    "# Save the plot before showing it\n",
    "plt.savefig(\"mean_pain_delta_by_persona.png\", dpi=300, bbox_inches='tight')\n",
    "\n",
    "# Display the plot\n",
    "plt.show()\n",
    "\n",
    "# Print mean_pain_delta values grouped by persona\n",
    "print(X_labeled.groupby(\"persona\")[\"mean_pain_delta\"].mean().reset_index())\n",
    "\n"
   ]
  },
  {
   "cell_type": "code",
   "execution_count": 44,
   "id": "6891789a",
   "metadata": {},
   "outputs": [
    {
     "name": "stdout",
     "output_type": "stream",
     "text": [
      "               persona  mean_pain_delta  n_sessions   dropout\n",
      "0   Steady Progressors        -0.228343   13.585783  0.015038\n",
      "1       Fast Improvers        -0.299482   15.658430  0.001196\n",
      "2  Frustrated Droppers        -0.497821   10.771401  0.054475\n"
     ]
    }
   ],
   "source": [
    "cluster_summary = X_labeled.groupby(\"cluster\").agg({\n",
    "    \"mean_pain_delta\": \"mean\",\n",
    "    \"n_sessions\": \"mean\",\n",
    "    \"dropout\": \"mean\",\n",
    "    \"avg_session_duration\": \"mean\",\n",
    "    \"mean_pain\": \"mean\"\n",
    "}).reset_index()\n",
    "\n",
    "cluster_summary['persona'] = cluster_summary['cluster'].map(cluster_map)\n",
    "\n",
    "print(cluster_summary[['persona', 'mean_pain_delta', 'n_sessions', 'dropout']])\n"
   ]
  },
  {
   "cell_type": "markdown",
   "id": "4127f663",
   "metadata": {},
   "source": [
    "### Patient Segmentation Personas – MedOptix Therapy Adherence Study\n",
    "\n",
    "Through clustering analysis of patient therapy data, i identified three distinct patient personas that characterize adherence behavior and therapy outcomes:\n",
    "\n",
    "- Steady Progressors\n",
    "These patients show consistent, moderate improvement in pain levels over their therapy duration. They attend a high number of sessions (average ~14) and demonstrate a low dropout rate (~1.5%). Their gradual but steady progress suggests reliable engagement with the therapy program.\n",
    "\n",
    "- Fast Improvers\n",
    "This group experiences quicker reductions in pain and attends the highest number of sessions (~16). Remarkably, they exhibit an almost negligible dropout rate (~0.1%), indicating strong adherence and motivation. They represent the ideal therapy trajectory, with rapid gains and consistent participation.\n",
    "\n",
    "- Frustrated Droppers\n",
    "Although this group shows the most significant pain improvement per session, they attend fewer sessions (~11) and have the highest dropout rate (~5.4%). This suggests that while some progress is achieved early, challenges such as frustration or external factors may lead them to discontinue therapy prematurely.\n",
    "\n",
    "### Implications:\n",
    "Understanding these personas allows MedOptix to tailor personalized interventions—such as targeted nudges for the Frustrated Droppers to boost engagement, and reinforcement for Fast Improvers to maintain momentum—ultimately aiming to reduce dropout rates and improve patient outcomes across the board.\n",
    "\n"
   ]
  },
  {
   "cell_type": "markdown",
   "id": "d1c4c98e",
   "metadata": {},
   "source": []
  }
 ],
 "metadata": {
  "kernelspec": {
   "display_name": "med_env",
   "language": "python",
   "name": "python3"
  },
  "language_info": {
   "codemirror_mode": {
    "name": "ipython",
    "version": 3
   },
   "file_extension": ".py",
   "mimetype": "text/x-python",
   "name": "python",
   "nbconvert_exporter": "python",
   "pygments_lexer": "ipython3",
   "version": "3.12.4"
  }
 },
 "nbformat": 4,
 "nbformat_minor": 5
}
