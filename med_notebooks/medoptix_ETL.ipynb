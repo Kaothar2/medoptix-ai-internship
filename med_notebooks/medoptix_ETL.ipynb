{
 "cells": [
  {
   "cell_type": "markdown",
   "id": "d30cb864",
   "metadata": {},
   "source": [
    "## A. Upload CSVs to S3 (using boto3)"
   ]
  },
  {
   "cell_type": "code",
   "execution_count": 1,
   "id": "01436c55",
   "metadata": {},
   "outputs": [],
   "source": [
    "# install dependencies or put them in a requirements.txt file\n",
    "\n",
    "# !pip install sqlalchemy\n",
    "# !pip install sqlalchemy psycopg2-binary pandas\n"
   ]
  },
  {
   "cell_type": "code",
   "execution_count": 1,
   "id": "76716c9c",
   "metadata": {},
   "outputs": [
    {
     "name": "stdout",
     "output_type": "stream",
     "text": [
      "Requirement already satisfied: boto3 in c:\\users\\kaoth\\onedrive\\desktop\\data science lectures\\machine learning\\amdari internship\\medoptix-ai-internship\\med_env\\lib\\site-packages (1.39.14)\n",
      "Requirement already satisfied: psycopg2-binary in c:\\users\\kaoth\\onedrive\\desktop\\data science lectures\\machine learning\\amdari internship\\medoptix-ai-internship\\med_env\\lib\\site-packages (2.9.10)\n",
      "Requirement already satisfied: python-dotenv in c:\\users\\kaoth\\onedrive\\desktop\\data science lectures\\machine learning\\amdari internship\\medoptix-ai-internship\\med_env\\lib\\site-packages (1.1.1)\n",
      "Requirement already satisfied: pandas in c:\\users\\kaoth\\onedrive\\desktop\\data science lectures\\machine learning\\amdari internship\\medoptix-ai-internship\\med_env\\lib\\site-packages (2.3.1)\n",
      "Requirement already satisfied: botocore<1.40.0,>=1.39.14 in c:\\users\\kaoth\\onedrive\\desktop\\data science lectures\\machine learning\\amdari internship\\medoptix-ai-internship\\med_env\\lib\\site-packages (from boto3) (1.39.14)\n",
      "Requirement already satisfied: jmespath<2.0.0,>=0.7.1 in c:\\users\\kaoth\\onedrive\\desktop\\data science lectures\\machine learning\\amdari internship\\medoptix-ai-internship\\med_env\\lib\\site-packages (from boto3) (1.0.1)\n",
      "Requirement already satisfied: s3transfer<0.14.0,>=0.13.0 in c:\\users\\kaoth\\onedrive\\desktop\\data science lectures\\machine learning\\amdari internship\\medoptix-ai-internship\\med_env\\lib\\site-packages (from boto3) (0.13.1)\n",
      "Requirement already satisfied: numpy>=1.26.0 in c:\\users\\kaoth\\onedrive\\desktop\\data science lectures\\machine learning\\amdari internship\\medoptix-ai-internship\\med_env\\lib\\site-packages (from pandas) (2.1.3)\n",
      "Requirement already satisfied: python-dateutil>=2.8.2 in c:\\users\\kaoth\\onedrive\\desktop\\data science lectures\\machine learning\\amdari internship\\medoptix-ai-internship\\med_env\\lib\\site-packages (from pandas) (2.9.0.post0)\n",
      "Requirement already satisfied: pytz>=2020.1 in c:\\users\\kaoth\\onedrive\\desktop\\data science lectures\\machine learning\\amdari internship\\medoptix-ai-internship\\med_env\\lib\\site-packages (from pandas) (2025.2)\n",
      "Requirement already satisfied: tzdata>=2022.7 in c:\\users\\kaoth\\onedrive\\desktop\\data science lectures\\machine learning\\amdari internship\\medoptix-ai-internship\\med_env\\lib\\site-packages (from pandas) (2025.2)\n",
      "Requirement already satisfied: urllib3!=2.2.0,<3,>=1.25.4 in c:\\users\\kaoth\\onedrive\\desktop\\data science lectures\\machine learning\\amdari internship\\medoptix-ai-internship\\med_env\\lib\\site-packages (from botocore<1.40.0,>=1.39.14->boto3) (2.5.0)\n",
      "Requirement already satisfied: six>=1.5 in c:\\users\\kaoth\\onedrive\\desktop\\data science lectures\\machine learning\\amdari internship\\medoptix-ai-internship\\med_env\\lib\\site-packages (from python-dateutil>=2.8.2->pandas) (1.17.0)\n",
      "Note: you may need to restart the kernel to use updated packages.\n"
     ]
    },
    {
     "name": "stderr",
     "output_type": "stream",
     "text": [
      "\n",
      "[notice] A new release of pip is available: 24.0 -> 25.1.1\n",
      "[notice] To update, run: python.exe -m pip install --upgrade pip\n"
     ]
    }
   ],
   "source": [
    "pip install boto3 psycopg2-binary python-dotenv pandas\n"
   ]
  },
  {
   "cell_type": "code",
   "execution_count": 2,
   "id": "6222ce47",
   "metadata": {},
   "outputs": [
    {
     "name": "stdout",
     "output_type": "stream",
     "text": [
      "AWS S3 client initialized successfully.\n"
     ]
    }
   ],
   "source": [
    "from dotenv import load_dotenv\n",
    "import os\n",
    "import boto3\n",
    "\n",
    "# Explicitly specify the path to the aws.env file\n",
    "load_dotenv(dotenv_path=\"c:/Users/kaoth/OneDrive/Desktop/Data Science Lectures/Machine Learning/Amdari Internship/medoptix-ai-internship/aws.env\")\n",
    "\n",
    "# Access the AWS credentials\n",
    "AWS_ACCESS_KEY_ID = os.getenv(\"AWS_ACCESS_KEY_ID\")\n",
    "AWS_SECRET_ACCESS_KEY = os.getenv(\"AWS_SECRET_ACCESS_KEY\")\n",
    "BUCKET_NAME = os.getenv(\"S3_BUCKET\") \n",
    "\n",
    "\n",
    "# Initialize the S3 client using the credentials\n",
    "s3 = boto3.client(\n",
    "    's3',\n",
    "    aws_access_key_id=AWS_ACCESS_KEY_ID,\n",
    "    aws_secret_access_key=AWS_SECRET_ACCESS_KEY\n",
    ")\n",
    "\n",
    "print(\"AWS S3 client initialized successfully.\")"
   ]
  },
  {
   "cell_type": "markdown",
   "id": "9579e8d4",
   "metadata": {},
   "source": [
    "## B. Load from S3 → PostgreSQL\n"
   ]
  },
  {
   "cell_type": "code",
   "execution_count": 3,
   "id": "e1045b15",
   "metadata": {},
   "outputs": [
    {
     "name": "stdout",
     "output_type": "stream",
     "text": [
      "Requirement already satisfied: sqlalchemy in c:\\users\\kaoth\\onedrive\\desktop\\data science lectures\\machine learning\\amdari internship\\medoptix-ai-internship\\med_env\\lib\\site-packages (2.0.41)\n",
      "Requirement already satisfied: greenlet>=1 in c:\\users\\kaoth\\onedrive\\desktop\\data science lectures\\machine learning\\amdari internship\\medoptix-ai-internship\\med_env\\lib\\site-packages (from sqlalchemy) (3.2.3)\n",
      "Requirement already satisfied: typing-extensions>=4.6.0 in c:\\users\\kaoth\\onedrive\\desktop\\data science lectures\\machine learning\\amdari internship\\medoptix-ai-internship\\med_env\\lib\\site-packages (from sqlalchemy) (4.14.1)\n"
     ]
    },
    {
     "name": "stderr",
     "output_type": "stream",
     "text": [
      "\n",
      "[notice] A new release of pip is available: 24.0 -> 25.1.1\n",
      "[notice] To update, run: python.exe -m pip install --upgrade pip\n"
     ]
    }
   ],
   "source": [
    "!pip install sqlalchemy\n"
   ]
  },
  {
   "cell_type": "markdown",
   "id": "a414e5ed",
   "metadata": {},
   "source": [
    "## Connect to Postgres"
   ]
  },
  {
   "cell_type": "code",
   "execution_count": 4,
   "id": "b703c707",
   "metadata": {},
   "outputs": [
    {
     "name": "stdout",
     "output_type": "stream",
     "text": [
      "✅ Connected to PostgreSQL.\n"
     ]
    }
   ],
   "source": [
    "from dotenv import load_dotenv\n",
    "import os\n",
    "import psycopg2\n",
    "\n",
    "load_dotenv(dotenv_path=\"C:/Users/kaoth/OneDrive/Desktop/Data Science Lectures/Machine Learning/Amdari Internship/medoptix-ai-internship/aiven.env\")\n",
    "\n",
    "conn = psycopg2.connect(\n",
    "    host=os.getenv(\"DB_HOST\"),\n",
    "    port=os.getenv(\"DB_PORT\"),\n",
    "    dbname=os.getenv(\"DB_NAME\"),\n",
    "    user=os.getenv(\"DB_USER\"),\n",
    "    password=os.getenv(\"DB_PASSWORD\")\n",
    ")\n",
    "cursor = conn.cursor()\n",
    "print(\"✅ Connected to PostgreSQL.\")\n"
   ]
  },
  {
   "cell_type": "code",
   "execution_count": null,
   "id": "5ed1250d",
   "metadata": {},
   "outputs": [],
   "source": []
  },
  {
   "cell_type": "markdown",
   "id": "68acda84",
   "metadata": {},
   "source": [
    "# Data Modelling & Defining Foreign Key relationships\n",
    "\n",
    "\n",
    "- patients (PK: patient_id)\n",
    "- sessions (PK: session_id, FK: patient_id)\n",
    "- feedback (PK: feedback_id, FK: session_id)\n",
    "\n",
    "\n",
    "TASK 1 - Model and Define the relationship for the remaining set of dataset\n",
    " - clinics\n",
    " - dropout_flags\n",
    " - intervention.csv\n",
    "\n",
    "TASK 2 - Create Schema for these dataset and upload then into postgres"
   ]
  },
  {
   "cell_type": "markdown",
   "id": "ca046f5f",
   "metadata": {},
   "source": [
    "## C. Upload Data → PostgreSQL"
   ]
  },
  {
   "cell_type": "markdown",
   "id": "22f8afee",
   "metadata": {},
   "source": [
    "####  Create Tables with Foreign Key Constraints"
   ]
  },
  {
   "cell_type": "code",
   "execution_count": 6,
   "id": "23e4254d",
   "metadata": {},
   "outputs": [],
   "source": [
    "import pandas as pd\n",
    "import os\n",
    "\n",
    "base_path = \"C:/Users/kaoth/OneDrive/Desktop/Data Science Lectures/Machine Learning/Amdari Internship/Project_6/medoptix_data\"\n",
    "\n",
    "clinics = pd.read_csv(os.path.join(base_path, \"clinics.csv\"))\n",
    "patients = pd.read_csv(os.path.join(base_path, \"patients.csv\"))\n",
    "sessions = pd.read_csv(os.path.join(base_path, \"sessions.csv\"))\n",
    "feedback = pd.read_csv(os.path.join(base_path, \"feedback.csv\"))\n",
    "interventions = pd.read_csv(os.path.join(base_path, \"interventions.csv\"))\n",
    "dropout_flags = pd.read_csv(os.path.join(base_path, \"dropout_flags.csv\"))\n"
   ]
  },
  {
   "cell_type": "code",
   "execution_count": 7,
   "id": "96bf1107",
   "metadata": {},
   "outputs": [
    {
     "name": "stdout",
     "output_type": "stream",
     "text": [
      "\n",
      "CLINICS column types:\n",
      "clinic_id        int64\n",
      "city            object\n",
      "country         object\n",
      "type            object\n",
      "postcode         int64\n",
      "capacity         int64\n",
      "staff_count      int64\n",
      "speciality      object\n",
      "avg_rating     float64\n",
      "dtype: object\n",
      "\n",
      "PATIENTS column types:\n",
      "patient_id           int64\n",
      "age                  int64\n",
      "gender              object\n",
      "bmi                float64\n",
      "smoker                bool\n",
      "chronic_cond        object\n",
      "injury_type         object\n",
      "signup_date         object\n",
      "referral_source     object\n",
      "consent               bool\n",
      "clinic_id            int64\n",
      "insurance_type      object\n",
      "dtype: object\n",
      "\n",
      "SESSIONS column types:\n",
      "session_id           object\n",
      "patient_id            int64\n",
      "date                 object\n",
      "week                  int64\n",
      "duration              int64\n",
      "pain_level            int64\n",
      "exercise_type        object\n",
      "home_adherence_pc     int64\n",
      "satisfaction          int64\n",
      "therapist_id          int64\n",
      "dtype: object\n",
      "\n",
      "FEEDBACK column types:\n",
      "feedback_id     object\n",
      "session_id      object\n",
      "comments        object\n",
      "sentiment      float64\n",
      "dtype: object\n",
      "\n",
      "INTERVENTIONS column types:\n",
      "intervention_id    object\n",
      "patient_id          int64\n",
      "sent_at            object\n",
      "channel            object\n",
      "message            object\n",
      "responded            bool\n",
      "dtype: object\n",
      "\n",
      "DROPOUT_FLAGS column types:\n",
      "patient_id        int64\n",
      "dropout            bool\n",
      "dropout_week    float64\n",
      "dtype: object\n"
     ]
    }
   ],
   "source": [
    "dfs = {\n",
    "    \"clinics\": clinics,\n",
    "    \"patients\": patients,\n",
    "    \"sessions\": sessions,\n",
    "    \"feedback\": feedback,\n",
    "    \"interventions\": interventions,\n",
    "    \"dropout_flags\": dropout_flags\n",
    "}\n",
    "\n",
    "for name, df in dfs.items():\n",
    "    print(f\"\\n{name.upper()} column types:\")\n",
    "    print(df.dtypes)\n"
   ]
  },
  {
   "cell_type": "markdown",
   "id": "c16e0299",
   "metadata": {},
   "source": [
    "### Load Data and Insert into Tables"
   ]
  },
  {
   "cell_type": "code",
   "execution_count": 5,
   "id": "17b1fee8",
   "metadata": {},
   "outputs": [
    {
     "name": "stdout",
     "output_type": "stream",
     "text": [
      "Bucket: medoptix-bucket\n"
     ]
    }
   ],
   "source": [
    "import os\n",
    "from dotenv import load_dotenv\n",
    "\n",
    "load_dotenv(dotenv_path=r\"C:/Users/kaoth/.../aiven.env\")\n",
    "\n",
    "bucket = os.getenv(\"S3_BUCKET\")\n",
    "\n",
    "print(\"Bucket:\", bucket)  # This should print: medoptix-bucket\n"
   ]
  },
  {
   "cell_type": "code",
   "execution_count": 6,
   "id": "cb57e185",
   "metadata": {},
   "outputs": [
    {
     "name": "stdout",
     "output_type": "stream",
     "text": [
      "\n",
      "📥 Inserting clinics.csv → clinics\n",
      "❌ Error inserting row 0 into 'clinics': duplicate key value violates unique constraint \"clinics_pkey\"\n",
      "DETAIL:  Key (clinic_id)=(1) already exists.\n",
      "\n",
      "➡️ Row data: {'clinic_id': 1, 'city': 'London', 'country': 'UK', 'type': 'NHS', 'postcode': 1184, 'capacity': 109, 'staff_count': 26, 'speciality': 'Neuro-rehab', 'avg_rating': 4.7}\n",
      "✅ Inserted 0 rows into 'clinics'.\n",
      "\n",
      "📥 Inserting patients.csv → patients\n",
      "❌ Error inserting row 0 into 'patients': duplicate key value violates unique constraint \"patients_pkey\"\n",
      "DETAIL:  Key (patient_id)=(1) already exists.\n",
      "\n",
      "➡️ Row data: {'patient_id': 1, 'age': 29, 'gender': 'Male', 'bmi': 23.9, 'smoker': False, 'chronic_cond': None, 'injury_type': 'Knee', 'signup_date': '2025-04-27 00:12:44.286283', 'referral_source': 'Insurance', 'consent': True, 'clinic_id': 6, 'insurance_type': 'Public'}\n",
      "✅ Inserted 0 rows into 'patients'.\n",
      "\n",
      "📥 Inserting sessions.csv → sessions\n",
      "❌ Error inserting row 0 into 'sessions': duplicate key value violates unique constraint \"sessions_pkey\"\n",
      "DETAIL:  Key (session_id)=(315291cb2a5c4c29a65810cd5ec7dcb4) already exists.\n",
      "\n",
      "➡️ Row data: {'session_id': '315291cb2a5c4c29a65810cd5ec7dcb4', 'patient_id': 1, 'date': '2025-05-02 00:12:44.286283', 'week': 1, 'duration': 40, 'pain_level': 6, 'exercise_type': 'Balance', 'home_adherence_pc': 51, 'satisfaction': 6, 'therapist_id': 1162}\n",
      "✅ Inserted 0 rows into 'sessions'.\n",
      "\n",
      "📥 Inserting feedback.csv → feedback\n",
      "❌ Error inserting row 0 into 'feedback': duplicate key value violates unique constraint \"feedback_pkey\"\n",
      "DETAIL:  Key (feedback_id)=(435defdee63547a4b33eca22aaa11e84) already exists.\n",
      "\n",
      "➡️ Row data: {'feedback_id': '435defdee63547a4b33eca22aaa11e84', 'session_id': '07b1b624b7df4be88d2be78952da2aa9', 'comments': 'Would like longer sessions', 'sentiment': 0.361}\n",
      "✅ Inserted 0 rows into 'feedback'.\n",
      "\n",
      "📥 Inserting interventions.csv → interventions\n",
      "❌ Error inserting row 0 into 'interventions': duplicate key value violates unique constraint \"interventions_pkey\"\n",
      "DETAIL:  Key (intervention_id)=(707ee8c60a6e412cb80da41b234ecd82) already exists.\n",
      "\n",
      "➡️ Row data: {'intervention_id': '707ee8c60a6e412cb80da41b234ecd82', 'patient_id': 1008, 'sent_at': '2025-03-21 00:12:44.286283', 'channel': 'SMS', 'message': 'Reminder: your session tomorrow at 10 am.', 'responded': False}\n",
      "✅ Inserted 0 rows into 'interventions'.\n",
      "\n",
      "📥 Inserting dropout_flags.csv → dropout_flags\n",
      "❌ Error inserting row 0 into 'dropout_flags': duplicate key value violates unique constraint \"dropout_flags_pkey\"\n",
      "DETAIL:  Key (patient_id)=(1) already exists.\n",
      "\n",
      "➡️ Row data: {'patient_id': 1, 'dropout': False, 'dropout_week': nan}\n",
      "✅ Inserted 0 rows into 'dropout_flags'.\n",
      "✅ All data inserted successfully.\n"
     ]
    }
   ],
   "source": [
    "import pandas as pd\n",
    "from io import StringIO\n",
    "\n",
    "# Function to read CSV from S3\n",
    "def read_csv_from_s3(filename):\n",
    "    response = s3.get_object(Bucket=bucket, Key=filename)\n",
    "    return pd.read_csv(StringIO(response['Body'].read().decode('utf-8')))\n",
    "\n",
    "# Function to insert DataFrame into PostgreSQL\n",
    "def insert_dataframe(df, table_name):\n",
    "    df = df.where(pd.notnull(df), None)  # Replace NaN with None\n",
    "    inserted = 0\n",
    "    for i, row in df.iterrows():\n",
    "        cols = ','.join(row.index)\n",
    "        vals = ','.join(['%s'] * len(row))\n",
    "        sql = f\"INSERT INTO {table_name} ({cols}) VALUES ({vals})\"\n",
    "        try:\n",
    "            cursor.execute(sql, tuple(row))\n",
    "            inserted += 1\n",
    "        except Exception as e:\n",
    "            print(f\"❌ Error inserting row {i} into '{table_name}': {e}\")\n",
    "            print(\"➡️ Row data:\", row.to_dict())\n",
    "            conn.rollback()\n",
    "            break\n",
    "    conn.commit()\n",
    "    print(f\"✅ Inserted {inserted} rows into '{table_name}'.\")\n",
    "\n",
    "# File-to-table mapping\n",
    "file_table_map = {\n",
    "    \"clinics.csv\": \"clinics\",\n",
    "    \"patients.csv\": \"patients\",\n",
    "    \"sessions.csv\": \"sessions\",\n",
    "    \"feedback.csv\": \"feedback\",\n",
    "    \"interventions.csv\": \"interventions\",\n",
    "    \"dropout_flags.csv\": \"dropout_flags\"\n",
    "}\n",
    "\n",
    "# Insert all data\n",
    "for filename, table in file_table_map.items():\n",
    "    print(f\"\\n📥 Inserting {filename} → {table}\")\n",
    "    df = read_csv_from_s3(filename)\n",
    "    insert_dataframe(df, table)\n",
    "\n",
    "print(\"✅ All data inserted successfully.\")\n"
   ]
  },
  {
   "cell_type": "code",
   "execution_count": 9,
   "id": "07deb6b9",
   "metadata": {},
   "outputs": [
    {
     "name": "stdout",
     "output_type": "stream",
     "text": [
      "📊 clinics: 8 rows\n",
      "📊 patients: 5000 rows\n",
      "📊 sessions: 70236 rows\n",
      "📊 feedback: 49165 rows\n",
      "📊 interventions: 5016 rows\n",
      "📊 dropout_flags: 5000 rows\n"
     ]
    }
   ],
   "source": [
    "tables = [\"clinics\", \"patients\", \"sessions\", \"feedback\", \"interventions\", \"dropout_flags\"]\n",
    "\n",
    "for table in tables:\n",
    "    cursor.execute(f\"SELECT COUNT(*) FROM {table};\")\n",
    "    count = cursor.fetchone()[0]\n",
    "    print(f\"📊 {table}: {count} rows\")\n"
   ]
  },
  {
   "cell_type": "code",
   "execution_count": 10,
   "id": "b194151c",
   "metadata": {},
   "outputs": [
    {
     "name": "stdout",
     "output_type": "stream",
     "text": [
      "✅ clinics: 8 in DB vs 8 in S3\n",
      "✅ patients: 5000 in DB vs 5000 in S3\n",
      "✅ sessions: 70236 in DB vs 70236 in S3\n",
      "✅ feedback: 49165 in DB vs 49165 in S3\n",
      "✅ interventions: 5016 in DB vs 5016 in S3\n",
      "✅ dropout_flags: 5000 in DB vs 5000 in S3\n"
     ]
    }
   ],
   "source": [
    "# Assuming you have this function already defined\n",
    "def read_csv_from_s3(filename):\n",
    "    response = s3.get_object(Bucket=bucket, Key=filename)\n",
    "    return pd.read_csv(StringIO(response['Body'].read().decode('utf-8')))\n",
    "\n",
    "# Compare row counts\n",
    "for file, table in file_table_map.items():\n",
    "    df = read_csv_from_s3(file)\n",
    "    cursor.execute(f\"SELECT COUNT(*) FROM {table};\")\n",
    "    db_count = cursor.fetchone()[0]\n",
    "    print(f\"✅ {table}: {db_count} in DB vs {len(df)} in S3\")\n"
   ]
  },
  {
   "cell_type": "code",
   "execution_count": null,
   "id": "5da50a44",
   "metadata": {},
   "outputs": [],
   "source": []
  },
  {
   "cell_type": "markdown",
   "id": "2c469388",
   "metadata": {},
   "source": [
    "## D. Read Data → PostgreSQL - (Prepare data for EDA)\n"
   ]
  },
  {
   "cell_type": "code",
   "execution_count": 7,
   "id": "e466e718",
   "metadata": {},
   "outputs": [
    {
     "name": "stdout",
     "output_type": "stream",
     "text": [
      "Patients: (5000, 12)\n",
      "Sessions: (70236, 10)\n",
      "Feedback: (49165, 4)\n",
      "Clinics: (8, 9)\n",
      "Interventions: (5016, 6)\n",
      "Dropout Flags: (5000, 3)\n"
     ]
    }
   ],
   "source": [
    "from sqlalchemy import create_engine\n",
    "import os\n",
    "from dotenv import load_dotenv\n",
    "\n",
    "def get_db_engine():\n",
    "    \"\"\"Create and return a SQLAlchemy engine using env variables\"\"\"\n",
    "    db_url = (\n",
    "        f\"postgresql://{os.getenv('DB_USER')}:{os.getenv('DB_PASSWORD')}@\"\n",
    "        f\"{os.getenv('DB_HOST')}:{os.getenv('DB_PORT')}/{os.getenv('DB_NAME')}\"\n",
    "    )\n",
    "    return create_engine(db_url)\n",
    "\n",
    "# ✅ Initialize engine\n",
    "engine = get_db_engine()\n",
    "\n",
    "# ✅ Define your queries\n",
    "patients_query = \"SELECT * FROM patients\"\n",
    "sessions_query = \"SELECT * FROM sessions\"\n",
    "feedback_query = \"SELECT * FROM feedback\"\n",
    "clinics_query = \"SELECT * FROM clinics\"\n",
    "interventions_query = \"SELECT * FROM interventions\"\n",
    "dropout_query = \"SELECT * FROM dropout_flags\"\n",
    "\n",
    "# ✅ Load data from PostgreSQL into DataFrames\n",
    "patients_df = pd.read_sql(patients_query, engine)\n",
    "sessions_df = pd.read_sql(sessions_query, engine)\n",
    "feedback_df = pd.read_sql(feedback_query, engine)\n",
    "clinics_df = pd.read_sql(clinics_query, engine)\n",
    "interventions_df = pd.read_sql(interventions_query, engine)\n",
    "dropout_df = pd.read_sql(dropout_query, engine)\n",
    "\n",
    "# ✅ Quick check\n",
    "print(\"Patients:\", patients_df.shape)\n",
    "print(\"Sessions:\", sessions_df.shape)\n",
    "print(\"Feedback:\", feedback_df.shape)\n",
    "print(\"Clinics:\", clinics_df.shape)\n",
    "print(\"Interventions:\", interventions_df.shape)\n",
    "print(\"Dropout Flags:\", dropout_df.shape)\n"
   ]
  },
  {
   "cell_type": "code",
   "execution_count": 9,
   "id": "024b4d06",
   "metadata": {},
   "outputs": [],
   "source": [
    "# Save data\n",
    "\n",
    "save_path = r\"C:\\Users\\kaoth\\OneDrive\\Desktop\\Data Science Lectures\\Machine Learning\\Amdari Internship\\medoptix-ai-internship\\medoptix_data\\processed\"\n",
    "\n",
    "patients_df.to_csv(f\"{save_path}\\\\patients.csv\", index=False)\n",
    "sessions_df.to_csv(f\"{save_path}\\\\sessions.csv\", index=False)\n",
    "feedback_df.to_csv(f\"{save_path}\\\\feedback.csv\", index=False)\n",
    "clinics_df.to_csv(f\"{save_path}\\\\clinics.csv\", index=False)\n",
    "interventions_df.to_csv(f\"{save_path}\\\\interventions.csv\", index=False)\n",
    "dropout_df.to_csv(f\"{save_path}\\\\dropout_flags.csv\", index=False)\n"
   ]
  },
  {
   "cell_type": "markdown",
   "id": "0fac68f4",
   "metadata": {},
   "source": [
    "### D1- Display basic info and summary statistics for each table"
   ]
  },
  {
   "cell_type": "code",
   "execution_count": 12,
   "id": "9bda9583",
   "metadata": {},
   "outputs": [
    {
     "name": "stdout",
     "output_type": "stream",
     "text": [
      "Patients Data Overview\n",
      "<class 'pandas.core.frame.DataFrame'>\n",
      "RangeIndex: 5000 entries, 0 to 4999\n",
      "Data columns (total 12 columns):\n",
      " #   Column           Non-Null Count  Dtype         \n",
      "---  ------           --------------  -----         \n",
      " 0   patient_id       5000 non-null   int64         \n",
      " 1   age              5000 non-null   int64         \n",
      " 2   gender           5000 non-null   object        \n",
      " 3   bmi              5000 non-null   float64       \n",
      " 4   smoker           5000 non-null   bool          \n",
      " 5   chronic_cond     1931 non-null   object        \n",
      " 6   injury_type      5000 non-null   object        \n",
      " 7   signup_date      5000 non-null   datetime64[ns]\n",
      " 8   referral_source  5000 non-null   object        \n",
      " 9   consent          5000 non-null   bool          \n",
      " 10  clinic_id        5000 non-null   int64         \n",
      " 11  insurance_type   5000 non-null   object        \n",
      "dtypes: bool(2), datetime64[ns](1), float64(1), int64(3), object(5)\n",
      "memory usage: 400.5+ KB\n"
     ]
    },
    {
     "data": {
      "application/vnd.microsoft.datawrangler.viewer.v0+json": {
       "columns": [
        {
         "name": "index",
         "rawType": "object",
         "type": "string"
        },
        {
         "name": "patient_id",
         "rawType": "float64",
         "type": "float"
        },
        {
         "name": "age",
         "rawType": "float64",
         "type": "float"
        },
        {
         "name": "bmi",
         "rawType": "float64",
         "type": "float"
        },
        {
         "name": "signup_date",
         "rawType": "object",
         "type": "unknown"
        },
        {
         "name": "clinic_id",
         "rawType": "float64",
         "type": "float"
        }
       ],
       "ref": "1efef4ab-f107-496b-89d0-e8d39e495103",
       "rows": [
        [
         "count",
         "5000.0",
         "5000.0",
         "5000.0",
         "5000",
         "5000.0"
        ],
        [
         "mean",
         "2500.5",
         "50.9072",
         "25.174580000000002",
         "2024-12-10 09:48:44.286283520",
         "3.3878"
        ],
        [
         "min",
         "1.0",
         "18.0",
         "17.0",
         "2024-06-13 00:12:44.286283",
         "1.0"
        ],
        [
         "25%",
         "1250.75",
         "34.0",
         "22.4",
         "2024-09-08 00:12:44.286283008",
         "2.0"
        ],
        [
         "50%",
         "2500.5",
         "51.0",
         "25.1",
         "2024-12-10 12:12:44.286283008",
         "3.0"
        ],
        [
         "75%",
         "3750.25",
         "68.0",
         "27.7",
         "2025-03-11 00:12:44.286283008",
         "5.0"
        ],
        [
         "max",
         "5000.0",
         "84.0",
         "38.8",
         "2025-06-12 00:12:44.286283",
         "8.0"
        ],
        [
         "std",
         "1443.5200033252052",
         "19.4032029576821",
         "3.7696331188021563",
         null,
         "1.7495208843180274"
        ]
       ],
       "shape": {
        "columns": 5,
        "rows": 8
       }
      },
      "text/html": [
       "<div>\n",
       "<style scoped>\n",
       "    .dataframe tbody tr th:only-of-type {\n",
       "        vertical-align: middle;\n",
       "    }\n",
       "\n",
       "    .dataframe tbody tr th {\n",
       "        vertical-align: top;\n",
       "    }\n",
       "\n",
       "    .dataframe thead th {\n",
       "        text-align: right;\n",
       "    }\n",
       "</style>\n",
       "<table border=\"1\" class=\"dataframe\">\n",
       "  <thead>\n",
       "    <tr style=\"text-align: right;\">\n",
       "      <th></th>\n",
       "      <th>patient_id</th>\n",
       "      <th>age</th>\n",
       "      <th>bmi</th>\n",
       "      <th>signup_date</th>\n",
       "      <th>clinic_id</th>\n",
       "    </tr>\n",
       "  </thead>\n",
       "  <tbody>\n",
       "    <tr>\n",
       "      <th>count</th>\n",
       "      <td>5000.000000</td>\n",
       "      <td>5000.000000</td>\n",
       "      <td>5000.000000</td>\n",
       "      <td>5000</td>\n",
       "      <td>5000.000000</td>\n",
       "    </tr>\n",
       "    <tr>\n",
       "      <th>mean</th>\n",
       "      <td>2500.500000</td>\n",
       "      <td>50.907200</td>\n",
       "      <td>25.174580</td>\n",
       "      <td>2024-12-10 09:48:44.286283520</td>\n",
       "      <td>3.387800</td>\n",
       "    </tr>\n",
       "    <tr>\n",
       "      <th>min</th>\n",
       "      <td>1.000000</td>\n",
       "      <td>18.000000</td>\n",
       "      <td>17.000000</td>\n",
       "      <td>2024-06-13 00:12:44.286283</td>\n",
       "      <td>1.000000</td>\n",
       "    </tr>\n",
       "    <tr>\n",
       "      <th>25%</th>\n",
       "      <td>1250.750000</td>\n",
       "      <td>34.000000</td>\n",
       "      <td>22.400000</td>\n",
       "      <td>2024-09-08 00:12:44.286283008</td>\n",
       "      <td>2.000000</td>\n",
       "    </tr>\n",
       "    <tr>\n",
       "      <th>50%</th>\n",
       "      <td>2500.500000</td>\n",
       "      <td>51.000000</td>\n",
       "      <td>25.100000</td>\n",
       "      <td>2024-12-10 12:12:44.286283008</td>\n",
       "      <td>3.000000</td>\n",
       "    </tr>\n",
       "    <tr>\n",
       "      <th>75%</th>\n",
       "      <td>3750.250000</td>\n",
       "      <td>68.000000</td>\n",
       "      <td>27.700000</td>\n",
       "      <td>2025-03-11 00:12:44.286283008</td>\n",
       "      <td>5.000000</td>\n",
       "    </tr>\n",
       "    <tr>\n",
       "      <th>max</th>\n",
       "      <td>5000.000000</td>\n",
       "      <td>84.000000</td>\n",
       "      <td>38.800000</td>\n",
       "      <td>2025-06-12 00:12:44.286283</td>\n",
       "      <td>8.000000</td>\n",
       "    </tr>\n",
       "    <tr>\n",
       "      <th>std</th>\n",
       "      <td>1443.520003</td>\n",
       "      <td>19.403203</td>\n",
       "      <td>3.769633</td>\n",
       "      <td>NaN</td>\n",
       "      <td>1.749521</td>\n",
       "    </tr>\n",
       "  </tbody>\n",
       "</table>\n",
       "</div>"
      ],
      "text/plain": [
       "        patient_id          age          bmi                    signup_date  \\\n",
       "count  5000.000000  5000.000000  5000.000000                           5000   \n",
       "mean   2500.500000    50.907200    25.174580  2024-12-10 09:48:44.286283520   \n",
       "min       1.000000    18.000000    17.000000     2024-06-13 00:12:44.286283   \n",
       "25%    1250.750000    34.000000    22.400000  2024-09-08 00:12:44.286283008   \n",
       "50%    2500.500000    51.000000    25.100000  2024-12-10 12:12:44.286283008   \n",
       "75%    3750.250000    68.000000    27.700000  2025-03-11 00:12:44.286283008   \n",
       "max    5000.000000    84.000000    38.800000     2025-06-12 00:12:44.286283   \n",
       "std    1443.520003    19.403203     3.769633                            NaN   \n",
       "\n",
       "         clinic_id  \n",
       "count  5000.000000  \n",
       "mean      3.387800  \n",
       "min       1.000000  \n",
       "25%       2.000000  \n",
       "50%       3.000000  \n",
       "75%       5.000000  \n",
       "max       8.000000  \n",
       "std       1.749521  "
      ]
     },
     "execution_count": 12,
     "metadata": {},
     "output_type": "execute_result"
    }
   ],
   "source": [
    "# Patients\n",
    "print(\"Patients Data Overview\")\n",
    "patients_df.head(2)\n",
    "patients_df.info()\n",
    "patients_df.describe()\n",
    "\n"
   ]
  },
  {
   "cell_type": "code",
   "execution_count": 13,
   "id": "f5b2a439",
   "metadata": {},
   "outputs": [
    {
     "name": "stdout",
     "output_type": "stream",
     "text": [
      "Sessions Data Overview\n",
      "<class 'pandas.core.frame.DataFrame'>\n",
      "RangeIndex: 70236 entries, 0 to 70235\n",
      "Data columns (total 10 columns):\n",
      " #   Column             Non-Null Count  Dtype  \n",
      "---  ------             --------------  -----  \n",
      " 0   session_id         70236 non-null  object \n",
      " 1   patient_id         70236 non-null  int64  \n",
      " 2   date               70236 non-null  object \n",
      " 3   week               70236 non-null  int64  \n",
      " 4   duration           70236 non-null  int64  \n",
      " 5   pain_level         70236 non-null  int64  \n",
      " 6   exercise_type      70236 non-null  object \n",
      " 7   home_adherence_pc  70236 non-null  float64\n",
      " 8   satisfaction       70236 non-null  int64  \n",
      " 9   therapist_id       70236 non-null  int64  \n",
      "dtypes: float64(1), int64(6), object(3)\n",
      "memory usage: 5.4+ MB\n"
     ]
    },
    {
     "data": {
      "application/vnd.microsoft.datawrangler.viewer.v0+json": {
       "columns": [
        {
         "name": "index",
         "rawType": "object",
         "type": "string"
        },
        {
         "name": "patient_id",
         "rawType": "float64",
         "type": "float"
        },
        {
         "name": "week",
         "rawType": "float64",
         "type": "float"
        },
        {
         "name": "duration",
         "rawType": "float64",
         "type": "float"
        },
        {
         "name": "pain_level",
         "rawType": "float64",
         "type": "float"
        },
        {
         "name": "home_adherence_pc",
         "rawType": "float64",
         "type": "float"
        },
        {
         "name": "satisfaction",
         "rawType": "float64",
         "type": "float"
        },
        {
         "name": "therapist_id",
         "rawType": "float64",
         "type": "float"
        }
       ],
       "ref": "e2ed70a4-54f7-42aa-87e9-2e1ac8a36fb2",
       "rows": [
        [
         "count",
         "70236.0",
         "70236.0",
         "70236.0",
         "70236.0",
         "70236.0",
         "70236.0",
         "70236.0"
        ],
        [
         "mean",
         "2498.8276524859048",
         "6.490717011219318",
         "39.51113389145168",
         "1.9823167606355716",
         "69.3337747024318",
         "6.490830912922148",
         "1099.4114983769007"
        ],
        [
         "std",
         "1444.9251722084443",
         "3.4511241169441234",
         "11.516466767631062",
         "1.4841083503080117",
         "14.84672085796141",
         "1.2364109797651321",
         "57.61026092452377"
        ],
        [
         "min",
         "1.0",
         "1.0",
         "20.0",
         "1.0",
         "0.0",
         "2.0",
         "1000.0"
        ],
        [
         "25%",
         "1247.0",
         "3.0",
         "30.0",
         "1.0",
         "59.0",
         "6.0",
         "1049.0"
        ],
        [
         "50%",
         "2499.0",
         "6.0",
         "40.0",
         "1.0",
         "69.0",
         "6.0",
         "1099.0"
        ],
        [
         "75%",
         "3751.0",
         "9.0",
         "49.0",
         "3.0",
         "80.0",
         "7.0",
         "1149.0"
        ],
        [
         "max",
         "5000.0",
         "12.0",
         "59.0",
         "8.0",
         "100.0",
         "10.0",
         "1199.0"
        ]
       ],
       "shape": {
        "columns": 7,
        "rows": 8
       }
      },
      "text/html": [
       "<div>\n",
       "<style scoped>\n",
       "    .dataframe tbody tr th:only-of-type {\n",
       "        vertical-align: middle;\n",
       "    }\n",
       "\n",
       "    .dataframe tbody tr th {\n",
       "        vertical-align: top;\n",
       "    }\n",
       "\n",
       "    .dataframe thead th {\n",
       "        text-align: right;\n",
       "    }\n",
       "</style>\n",
       "<table border=\"1\" class=\"dataframe\">\n",
       "  <thead>\n",
       "    <tr style=\"text-align: right;\">\n",
       "      <th></th>\n",
       "      <th>patient_id</th>\n",
       "      <th>week</th>\n",
       "      <th>duration</th>\n",
       "      <th>pain_level</th>\n",
       "      <th>home_adherence_pc</th>\n",
       "      <th>satisfaction</th>\n",
       "      <th>therapist_id</th>\n",
       "    </tr>\n",
       "  </thead>\n",
       "  <tbody>\n",
       "    <tr>\n",
       "      <th>count</th>\n",
       "      <td>70236.000000</td>\n",
       "      <td>70236.000000</td>\n",
       "      <td>70236.000000</td>\n",
       "      <td>70236.000000</td>\n",
       "      <td>70236.000000</td>\n",
       "      <td>70236.000000</td>\n",
       "      <td>70236.000000</td>\n",
       "    </tr>\n",
       "    <tr>\n",
       "      <th>mean</th>\n",
       "      <td>2498.827652</td>\n",
       "      <td>6.490717</td>\n",
       "      <td>39.511134</td>\n",
       "      <td>1.982317</td>\n",
       "      <td>69.333775</td>\n",
       "      <td>6.490831</td>\n",
       "      <td>1099.411498</td>\n",
       "    </tr>\n",
       "    <tr>\n",
       "      <th>std</th>\n",
       "      <td>1444.925172</td>\n",
       "      <td>3.451124</td>\n",
       "      <td>11.516467</td>\n",
       "      <td>1.484108</td>\n",
       "      <td>14.846721</td>\n",
       "      <td>1.236411</td>\n",
       "      <td>57.610261</td>\n",
       "    </tr>\n",
       "    <tr>\n",
       "      <th>min</th>\n",
       "      <td>1.000000</td>\n",
       "      <td>1.000000</td>\n",
       "      <td>20.000000</td>\n",
       "      <td>1.000000</td>\n",
       "      <td>0.000000</td>\n",
       "      <td>2.000000</td>\n",
       "      <td>1000.000000</td>\n",
       "    </tr>\n",
       "    <tr>\n",
       "      <th>25%</th>\n",
       "      <td>1247.000000</td>\n",
       "      <td>3.000000</td>\n",
       "      <td>30.000000</td>\n",
       "      <td>1.000000</td>\n",
       "      <td>59.000000</td>\n",
       "      <td>6.000000</td>\n",
       "      <td>1049.000000</td>\n",
       "    </tr>\n",
       "    <tr>\n",
       "      <th>50%</th>\n",
       "      <td>2499.000000</td>\n",
       "      <td>6.000000</td>\n",
       "      <td>40.000000</td>\n",
       "      <td>1.000000</td>\n",
       "      <td>69.000000</td>\n",
       "      <td>6.000000</td>\n",
       "      <td>1099.000000</td>\n",
       "    </tr>\n",
       "    <tr>\n",
       "      <th>75%</th>\n",
       "      <td>3751.000000</td>\n",
       "      <td>9.000000</td>\n",
       "      <td>49.000000</td>\n",
       "      <td>3.000000</td>\n",
       "      <td>80.000000</td>\n",
       "      <td>7.000000</td>\n",
       "      <td>1149.000000</td>\n",
       "    </tr>\n",
       "    <tr>\n",
       "      <th>max</th>\n",
       "      <td>5000.000000</td>\n",
       "      <td>12.000000</td>\n",
       "      <td>59.000000</td>\n",
       "      <td>8.000000</td>\n",
       "      <td>100.000000</td>\n",
       "      <td>10.000000</td>\n",
       "      <td>1199.000000</td>\n",
       "    </tr>\n",
       "  </tbody>\n",
       "</table>\n",
       "</div>"
      ],
      "text/plain": [
       "         patient_id          week      duration    pain_level  \\\n",
       "count  70236.000000  70236.000000  70236.000000  70236.000000   \n",
       "mean    2498.827652      6.490717     39.511134      1.982317   \n",
       "std     1444.925172      3.451124     11.516467      1.484108   \n",
       "min        1.000000      1.000000     20.000000      1.000000   \n",
       "25%     1247.000000      3.000000     30.000000      1.000000   \n",
       "50%     2499.000000      6.000000     40.000000      1.000000   \n",
       "75%     3751.000000      9.000000     49.000000      3.000000   \n",
       "max     5000.000000     12.000000     59.000000      8.000000   \n",
       "\n",
       "       home_adherence_pc  satisfaction  therapist_id  \n",
       "count       70236.000000  70236.000000  70236.000000  \n",
       "mean           69.333775      6.490831   1099.411498  \n",
       "std            14.846721      1.236411     57.610261  \n",
       "min             0.000000      2.000000   1000.000000  \n",
       "25%            59.000000      6.000000   1049.000000  \n",
       "50%            69.000000      6.000000   1099.000000  \n",
       "75%            80.000000      7.000000   1149.000000  \n",
       "max           100.000000     10.000000   1199.000000  "
      ]
     },
     "execution_count": 13,
     "metadata": {},
     "output_type": "execute_result"
    }
   ],
   "source": [
    "# Sessions\n",
    "print(\"Sessions Data Overview\")\n",
    "sessions_df.head(2)\n",
    "sessions_df.info()\n",
    "sessions_df.describe()\n"
   ]
  },
  {
   "cell_type": "code",
   "execution_count": 14,
   "id": "50e28de2",
   "metadata": {},
   "outputs": [
    {
     "name": "stdout",
     "output_type": "stream",
     "text": [
      "Feedback Data Overview\n",
      "<class 'pandas.core.frame.DataFrame'>\n",
      "RangeIndex: 49165 entries, 0 to 49164\n",
      "Data columns (total 4 columns):\n",
      " #   Column       Non-Null Count  Dtype  \n",
      "---  ------       --------------  -----  \n",
      " 0   feedback_id  49165 non-null  object \n",
      " 1   session_id   49165 non-null  object \n",
      " 2   comments     49165 non-null  object \n",
      " 3   sentiment    49165 non-null  float64\n",
      "dtypes: float64(1), object(3)\n",
      "memory usage: 1.5+ MB\n"
     ]
    },
    {
     "data": {
      "application/vnd.microsoft.datawrangler.viewer.v0+json": {
       "columns": [
        {
         "name": "index",
         "rawType": "object",
         "type": "string"
        },
        {
         "name": "sentiment",
         "rawType": "float64",
         "type": "float"
        }
       ],
       "ref": "9158bd3f-935b-424e-9964-e52e599f80b8",
       "rows": [
        [
         "count",
         "49165.0"
        ],
        [
         "mean",
         "0.3043601139021661"
        ],
        [
         "std",
         "0.3566931095431492"
        ],
        [
         "min",
         "-0.44"
        ],
        [
         "25%",
         "0.0"
        ],
        [
         "50%",
         "0.459"
        ],
        [
         "75%",
         "0.542"
        ],
        [
         "max",
         "0.802"
        ]
       ],
       "shape": {
        "columns": 1,
        "rows": 8
       }
      },
      "text/html": [
       "<div>\n",
       "<style scoped>\n",
       "    .dataframe tbody tr th:only-of-type {\n",
       "        vertical-align: middle;\n",
       "    }\n",
       "\n",
       "    .dataframe tbody tr th {\n",
       "        vertical-align: top;\n",
       "    }\n",
       "\n",
       "    .dataframe thead th {\n",
       "        text-align: right;\n",
       "    }\n",
       "</style>\n",
       "<table border=\"1\" class=\"dataframe\">\n",
       "  <thead>\n",
       "    <tr style=\"text-align: right;\">\n",
       "      <th></th>\n",
       "      <th>sentiment</th>\n",
       "    </tr>\n",
       "  </thead>\n",
       "  <tbody>\n",
       "    <tr>\n",
       "      <th>count</th>\n",
       "      <td>49165.000000</td>\n",
       "    </tr>\n",
       "    <tr>\n",
       "      <th>mean</th>\n",
       "      <td>0.304360</td>\n",
       "    </tr>\n",
       "    <tr>\n",
       "      <th>std</th>\n",
       "      <td>0.356693</td>\n",
       "    </tr>\n",
       "    <tr>\n",
       "      <th>min</th>\n",
       "      <td>-0.440000</td>\n",
       "    </tr>\n",
       "    <tr>\n",
       "      <th>25%</th>\n",
       "      <td>0.000000</td>\n",
       "    </tr>\n",
       "    <tr>\n",
       "      <th>50%</th>\n",
       "      <td>0.459000</td>\n",
       "    </tr>\n",
       "    <tr>\n",
       "      <th>75%</th>\n",
       "      <td>0.542000</td>\n",
       "    </tr>\n",
       "    <tr>\n",
       "      <th>max</th>\n",
       "      <td>0.802000</td>\n",
       "    </tr>\n",
       "  </tbody>\n",
       "</table>\n",
       "</div>"
      ],
      "text/plain": [
       "          sentiment\n",
       "count  49165.000000\n",
       "mean       0.304360\n",
       "std        0.356693\n",
       "min       -0.440000\n",
       "25%        0.000000\n",
       "50%        0.459000\n",
       "75%        0.542000\n",
       "max        0.802000"
      ]
     },
     "execution_count": 14,
     "metadata": {},
     "output_type": "execute_result"
    }
   ],
   "source": [
    "# Feedback\n",
    "print(\"Feedback Data Overview\")\n",
    "feedback_df.head()\n",
    "feedback_df.info()\n",
    "feedback_df.describe()"
   ]
  },
  {
   "cell_type": "code",
   "execution_count": 15,
   "id": "dd3e040a",
   "metadata": {},
   "outputs": [
    {
     "name": "stdout",
     "output_type": "stream",
     "text": [
      "clinics Data Overview\n",
      "<class 'pandas.core.frame.DataFrame'>\n",
      "RangeIndex: 8 entries, 0 to 7\n",
      "Data columns (total 9 columns):\n",
      " #   Column       Non-Null Count  Dtype  \n",
      "---  ------       --------------  -----  \n",
      " 0   clinic_id    8 non-null      int64  \n",
      " 1   city         8 non-null      object \n",
      " 2   country      8 non-null      object \n",
      " 3   type         8 non-null      object \n",
      " 4   postcode     8 non-null      object \n",
      " 5   capacity     8 non-null      int64  \n",
      " 6   staff_count  8 non-null      int64  \n",
      " 7   speciality   8 non-null      object \n",
      " 8   avg_rating   8 non-null      float64\n",
      "dtypes: float64(1), int64(3), object(5)\n",
      "memory usage: 708.0+ bytes\n"
     ]
    },
    {
     "data": {
      "application/vnd.microsoft.datawrangler.viewer.v0+json": {
       "columns": [
        {
         "name": "index",
         "rawType": "object",
         "type": "string"
        },
        {
         "name": "clinic_id",
         "rawType": "float64",
         "type": "float"
        },
        {
         "name": "capacity",
         "rawType": "float64",
         "type": "float"
        },
        {
         "name": "staff_count",
         "rawType": "float64",
         "type": "float"
        },
        {
         "name": "avg_rating",
         "rawType": "float64",
         "type": "float"
        }
       ],
       "ref": "b36e150d-3e82-4cbb-be3e-88f338b3c084",
       "rows": [
        [
         "count",
         "8.0",
         "8.0",
         "8.0",
         "8.0"
        ],
        [
         "mean",
         "4.5",
         "153.25",
         "21.5",
         "4.237500000000001"
        ],
        [
         "std",
         "2.449489742783178",
         "24.57495821824671",
         "5.976143046671968",
         "0.3739270364274674"
        ],
        [
         "min",
         "1.0",
         "109.0",
         "13.0",
         "3.7"
        ],
        [
         "25%",
         "2.75",
         "144.75",
         "18.25",
         "4.075"
        ],
        [
         "50%",
         "4.5",
         "151.5",
         "20.0",
         "4.300000000000001"
        ],
        [
         "75%",
         "6.25",
         "161.0",
         "26.5",
         "4.45"
        ],
        [
         "max",
         "8.0",
         "193.0",
         "30.0",
         "4.7"
        ]
       ],
       "shape": {
        "columns": 4,
        "rows": 8
       }
      },
      "text/html": [
       "<div>\n",
       "<style scoped>\n",
       "    .dataframe tbody tr th:only-of-type {\n",
       "        vertical-align: middle;\n",
       "    }\n",
       "\n",
       "    .dataframe tbody tr th {\n",
       "        vertical-align: top;\n",
       "    }\n",
       "\n",
       "    .dataframe thead th {\n",
       "        text-align: right;\n",
       "    }\n",
       "</style>\n",
       "<table border=\"1\" class=\"dataframe\">\n",
       "  <thead>\n",
       "    <tr style=\"text-align: right;\">\n",
       "      <th></th>\n",
       "      <th>clinic_id</th>\n",
       "      <th>capacity</th>\n",
       "      <th>staff_count</th>\n",
       "      <th>avg_rating</th>\n",
       "    </tr>\n",
       "  </thead>\n",
       "  <tbody>\n",
       "    <tr>\n",
       "      <th>count</th>\n",
       "      <td>8.00000</td>\n",
       "      <td>8.000000</td>\n",
       "      <td>8.000000</td>\n",
       "      <td>8.000000</td>\n",
       "    </tr>\n",
       "    <tr>\n",
       "      <th>mean</th>\n",
       "      <td>4.50000</td>\n",
       "      <td>153.250000</td>\n",
       "      <td>21.500000</td>\n",
       "      <td>4.237500</td>\n",
       "    </tr>\n",
       "    <tr>\n",
       "      <th>std</th>\n",
       "      <td>2.44949</td>\n",
       "      <td>24.574958</td>\n",
       "      <td>5.976143</td>\n",
       "      <td>0.373927</td>\n",
       "    </tr>\n",
       "    <tr>\n",
       "      <th>min</th>\n",
       "      <td>1.00000</td>\n",
       "      <td>109.000000</td>\n",
       "      <td>13.000000</td>\n",
       "      <td>3.700000</td>\n",
       "    </tr>\n",
       "    <tr>\n",
       "      <th>25%</th>\n",
       "      <td>2.75000</td>\n",
       "      <td>144.750000</td>\n",
       "      <td>18.250000</td>\n",
       "      <td>4.075000</td>\n",
       "    </tr>\n",
       "    <tr>\n",
       "      <th>50%</th>\n",
       "      <td>4.50000</td>\n",
       "      <td>151.500000</td>\n",
       "      <td>20.000000</td>\n",
       "      <td>4.300000</td>\n",
       "    </tr>\n",
       "    <tr>\n",
       "      <th>75%</th>\n",
       "      <td>6.25000</td>\n",
       "      <td>161.000000</td>\n",
       "      <td>26.500000</td>\n",
       "      <td>4.450000</td>\n",
       "    </tr>\n",
       "    <tr>\n",
       "      <th>max</th>\n",
       "      <td>8.00000</td>\n",
       "      <td>193.000000</td>\n",
       "      <td>30.000000</td>\n",
       "      <td>4.700000</td>\n",
       "    </tr>\n",
       "  </tbody>\n",
       "</table>\n",
       "</div>"
      ],
      "text/plain": [
       "       clinic_id    capacity  staff_count  avg_rating\n",
       "count    8.00000    8.000000     8.000000    8.000000\n",
       "mean     4.50000  153.250000    21.500000    4.237500\n",
       "std      2.44949   24.574958     5.976143    0.373927\n",
       "min      1.00000  109.000000    13.000000    3.700000\n",
       "25%      2.75000  144.750000    18.250000    4.075000\n",
       "50%      4.50000  151.500000    20.000000    4.300000\n",
       "75%      6.25000  161.000000    26.500000    4.450000\n",
       "max      8.00000  193.000000    30.000000    4.700000"
      ]
     },
     "execution_count": 15,
     "metadata": {},
     "output_type": "execute_result"
    }
   ],
   "source": [
    "# clinics\n",
    "print(\"clinics Data Overview\")\n",
    "clinics_df.head()\n",
    "clinics_df.info()\n",
    "clinics_df.describe()"
   ]
  },
  {
   "cell_type": "code",
   "execution_count": 16,
   "id": "e646fa66",
   "metadata": {},
   "outputs": [
    {
     "name": "stdout",
     "output_type": "stream",
     "text": [
      "interventions Data Overview\n",
      "<class 'pandas.core.frame.DataFrame'>\n",
      "RangeIndex: 5016 entries, 0 to 5015\n",
      "Data columns (total 6 columns):\n",
      " #   Column           Non-Null Count  Dtype         \n",
      "---  ------           --------------  -----         \n",
      " 0   intervention_id  5016 non-null   object        \n",
      " 1   patient_id       5016 non-null   int64         \n",
      " 2   sent_at          5016 non-null   datetime64[ns]\n",
      " 3   channel          5016 non-null   object        \n",
      " 4   message          5016 non-null   object        \n",
      " 5   responded        5016 non-null   bool          \n",
      "dtypes: bool(1), datetime64[ns](1), int64(1), object(3)\n",
      "memory usage: 201.0+ KB\n"
     ]
    },
    {
     "data": {
      "application/vnd.microsoft.datawrangler.viewer.v0+json": {
       "columns": [
        {
         "name": "index",
         "rawType": "object",
         "type": "string"
        },
        {
         "name": "patient_id",
         "rawType": "float64",
         "type": "float"
        },
        {
         "name": "sent_at",
         "rawType": "object",
         "type": "unknown"
        }
       ],
       "ref": "010638a0-af58-4190-89f0-4de3f0fbcce4",
       "rows": [
        [
         "count",
         "5016.0",
         "5016"
        ],
        [
         "mean",
         "2530.523524720893",
         "2025-01-04 15:20:46.582934016"
        ],
        [
         "min",
         "2.0",
         "2024-06-17 00:12:44.286283"
        ],
        [
         "25%",
         "1259.75",
         "2024-10-03 00:12:44.286283008"
        ],
        [
         "50%",
         "2517.0",
         "2025-01-03 00:12:44.286283008"
        ],
        [
         "75%",
         "3818.0",
         "2025-04-07 00:12:44.286283008"
        ],
        [
         "max",
         "5000.0",
         "2025-07-26 00:12:44.286283"
        ],
        [
         "std",
         "1457.9369050092164",
         null
        ]
       ],
       "shape": {
        "columns": 2,
        "rows": 8
       }
      },
      "text/html": [
       "<div>\n",
       "<style scoped>\n",
       "    .dataframe tbody tr th:only-of-type {\n",
       "        vertical-align: middle;\n",
       "    }\n",
       "\n",
       "    .dataframe tbody tr th {\n",
       "        vertical-align: top;\n",
       "    }\n",
       "\n",
       "    .dataframe thead th {\n",
       "        text-align: right;\n",
       "    }\n",
       "</style>\n",
       "<table border=\"1\" class=\"dataframe\">\n",
       "  <thead>\n",
       "    <tr style=\"text-align: right;\">\n",
       "      <th></th>\n",
       "      <th>patient_id</th>\n",
       "      <th>sent_at</th>\n",
       "    </tr>\n",
       "  </thead>\n",
       "  <tbody>\n",
       "    <tr>\n",
       "      <th>count</th>\n",
       "      <td>5016.000000</td>\n",
       "      <td>5016</td>\n",
       "    </tr>\n",
       "    <tr>\n",
       "      <th>mean</th>\n",
       "      <td>2530.523525</td>\n",
       "      <td>2025-01-04 15:20:46.582934016</td>\n",
       "    </tr>\n",
       "    <tr>\n",
       "      <th>min</th>\n",
       "      <td>2.000000</td>\n",
       "      <td>2024-06-17 00:12:44.286283</td>\n",
       "    </tr>\n",
       "    <tr>\n",
       "      <th>25%</th>\n",
       "      <td>1259.750000</td>\n",
       "      <td>2024-10-03 00:12:44.286283008</td>\n",
       "    </tr>\n",
       "    <tr>\n",
       "      <th>50%</th>\n",
       "      <td>2517.000000</td>\n",
       "      <td>2025-01-03 00:12:44.286283008</td>\n",
       "    </tr>\n",
       "    <tr>\n",
       "      <th>75%</th>\n",
       "      <td>3818.000000</td>\n",
       "      <td>2025-04-07 00:12:44.286283008</td>\n",
       "    </tr>\n",
       "    <tr>\n",
       "      <th>max</th>\n",
       "      <td>5000.000000</td>\n",
       "      <td>2025-07-26 00:12:44.286283</td>\n",
       "    </tr>\n",
       "    <tr>\n",
       "      <th>std</th>\n",
       "      <td>1457.936905</td>\n",
       "      <td>NaN</td>\n",
       "    </tr>\n",
       "  </tbody>\n",
       "</table>\n",
       "</div>"
      ],
      "text/plain": [
       "        patient_id                        sent_at\n",
       "count  5016.000000                           5016\n",
       "mean   2530.523525  2025-01-04 15:20:46.582934016\n",
       "min       2.000000     2024-06-17 00:12:44.286283\n",
       "25%    1259.750000  2024-10-03 00:12:44.286283008\n",
       "50%    2517.000000  2025-01-03 00:12:44.286283008\n",
       "75%    3818.000000  2025-04-07 00:12:44.286283008\n",
       "max    5000.000000     2025-07-26 00:12:44.286283\n",
       "std    1457.936905                            NaN"
      ]
     },
     "execution_count": 16,
     "metadata": {},
     "output_type": "execute_result"
    }
   ],
   "source": [
    "# interventions\n",
    "print(\"interventions Data Overview\")\n",
    "interventions_df.head()\n",
    "interventions_df.info()\n",
    "interventions_df.describe()"
   ]
  },
  {
   "cell_type": "code",
   "execution_count": 17,
   "id": "2724dc63",
   "metadata": {},
   "outputs": [
    {
     "name": "stdout",
     "output_type": "stream",
     "text": [
      "dropout Data Overview\n",
      "<class 'pandas.core.frame.DataFrame'>\n",
      "RangeIndex: 5000 entries, 0 to 4999\n",
      "Data columns (total 3 columns):\n",
      " #   Column        Non-Null Count  Dtype  \n",
      "---  ------        --------------  -----  \n",
      " 0   patient_id    5000 non-null   int64  \n",
      " 1   dropout       5000 non-null   bool   \n",
      " 2   dropout_week  81 non-null     float64\n",
      "dtypes: bool(1), float64(1), int64(1)\n",
      "memory usage: 83.1 KB\n"
     ]
    },
    {
     "data": {
      "application/vnd.microsoft.datawrangler.viewer.v0+json": {
       "columns": [
        {
         "name": "index",
         "rawType": "object",
         "type": "string"
        },
        {
         "name": "patient_id",
         "rawType": "float64",
         "type": "float"
        },
        {
         "name": "dropout_week",
         "rawType": "float64",
         "type": "float"
        }
       ],
       "ref": "4dc6cba6-dfd5-4bf1-9655-d168ef8237fd",
       "rows": [
        [
         "count",
         "5000.0",
         "81.0"
        ],
        [
         "mean",
         "2500.5",
         "9.481481481481481"
        ],
        [
         "std",
         "1443.5200033252052",
         "0.7601169500660919"
        ],
        [
         "min",
         "1.0",
         "7.0"
        ],
        [
         "25%",
         "1250.75",
         "9.0"
        ],
        [
         "50%",
         "2500.5",
         "10.0"
        ],
        [
         "75%",
         "3750.25",
         "10.0"
        ],
        [
         "max",
         "5000.0",
         "10.0"
        ]
       ],
       "shape": {
        "columns": 2,
        "rows": 8
       }
      },
      "text/html": [
       "<div>\n",
       "<style scoped>\n",
       "    .dataframe tbody tr th:only-of-type {\n",
       "        vertical-align: middle;\n",
       "    }\n",
       "\n",
       "    .dataframe tbody tr th {\n",
       "        vertical-align: top;\n",
       "    }\n",
       "\n",
       "    .dataframe thead th {\n",
       "        text-align: right;\n",
       "    }\n",
       "</style>\n",
       "<table border=\"1\" class=\"dataframe\">\n",
       "  <thead>\n",
       "    <tr style=\"text-align: right;\">\n",
       "      <th></th>\n",
       "      <th>patient_id</th>\n",
       "      <th>dropout_week</th>\n",
       "    </tr>\n",
       "  </thead>\n",
       "  <tbody>\n",
       "    <tr>\n",
       "      <th>count</th>\n",
       "      <td>5000.000000</td>\n",
       "      <td>81.000000</td>\n",
       "    </tr>\n",
       "    <tr>\n",
       "      <th>mean</th>\n",
       "      <td>2500.500000</td>\n",
       "      <td>9.481481</td>\n",
       "    </tr>\n",
       "    <tr>\n",
       "      <th>std</th>\n",
       "      <td>1443.520003</td>\n",
       "      <td>0.760117</td>\n",
       "    </tr>\n",
       "    <tr>\n",
       "      <th>min</th>\n",
       "      <td>1.000000</td>\n",
       "      <td>7.000000</td>\n",
       "    </tr>\n",
       "    <tr>\n",
       "      <th>25%</th>\n",
       "      <td>1250.750000</td>\n",
       "      <td>9.000000</td>\n",
       "    </tr>\n",
       "    <tr>\n",
       "      <th>50%</th>\n",
       "      <td>2500.500000</td>\n",
       "      <td>10.000000</td>\n",
       "    </tr>\n",
       "    <tr>\n",
       "      <th>75%</th>\n",
       "      <td>3750.250000</td>\n",
       "      <td>10.000000</td>\n",
       "    </tr>\n",
       "    <tr>\n",
       "      <th>max</th>\n",
       "      <td>5000.000000</td>\n",
       "      <td>10.000000</td>\n",
       "    </tr>\n",
       "  </tbody>\n",
       "</table>\n",
       "</div>"
      ],
      "text/plain": [
       "        patient_id  dropout_week\n",
       "count  5000.000000     81.000000\n",
       "mean   2500.500000      9.481481\n",
       "std    1443.520003      0.760117\n",
       "min       1.000000      7.000000\n",
       "25%    1250.750000      9.000000\n",
       "50%    2500.500000     10.000000\n",
       "75%    3750.250000     10.000000\n",
       "max    5000.000000     10.000000"
      ]
     },
     "execution_count": 17,
     "metadata": {},
     "output_type": "execute_result"
    }
   ],
   "source": [
    "# dropout\n",
    "print(\"dropout Data Overview\")\n",
    "dropout_df.head()\n",
    "dropout_df.info()\n",
    "dropout_df.describe()"
   ]
  },
  {
   "cell_type": "markdown",
   "id": "35dca40e",
   "metadata": {},
   "source": [
    "## E. EDA → (Exploratory Data Analysis)\n",
    "\n",
    "Steps in EDA\n",
    " - Data Exploration\n",
    "    - Head()\n",
    "    - info()\n",
    "    - describe()\n",
    " - Data Cleaning \n",
    "    - Identifying & Handling Missing Values\n",
    "    - Identifying & Handling Duplicates\n",
    " - Data Transformation (Feature Engineering)\n",
    "   - Standardizing data types (text, date, replacing values)\n",
    "   - Log Transform (for highly skewed data e.g., income, prices)\n",
    "   - Binning (Convert continuous variables into categorical bins e.g., age ranges)\n",
    "   - Encoding (Convert categorical variables into numerical format (e.g., One-Hot, Label Encoding))\n",
    " - Data Distributions\n",
    "    - Histograms for distributions of numerical features (age, bmi etc)- Also to check if the features are normally distributed or skewed (e.g., pain level or age should be somewhat evenly distributed just like we discovered in the last drop-in session).\n",
    "    - Boxplots to detect outliers & handle them.\n",
    "    - Pairplots to visualize relationships between multiple features.\n",
    " -  Correlation Analysis (dentify relationships between variables that may help in predictive modeling)\n",
    "    - Correlation Matrix to understand feature dependencies.\n",
    "    - Heatmap for visual representation of correlations.\n",
    " - Understanding Dropout Behavior\n",
    "    - investigate the correlation between features and patient dropout.\n",
    "\n"
   ]
  },
  {
   "cell_type": "markdown",
   "id": "0d71349a",
   "metadata": {},
   "source": [
    "#### E-2: Data Cleaning (Handling Missing Values)"
   ]
  },
  {
   "cell_type": "code",
   "execution_count": 18,
   "id": "40c7d5e2",
   "metadata": {},
   "outputs": [
    {
     "name": "stdout",
     "output_type": "stream",
     "text": [
      "\n",
      "Missing Values in Patients Data:\n",
      "patient_id            0\n",
      "age                   0\n",
      "gender                0\n",
      "bmi                   0\n",
      "smoker                0\n",
      "chronic_cond       3069\n",
      "injury_type           0\n",
      "signup_date           0\n",
      "referral_source       0\n",
      "consent               0\n",
      "clinic_id             0\n",
      "insurance_type        0\n",
      "dtype: int64\n",
      "\n",
      "Missing Values in Sessions Data:\n",
      "session_id           0\n",
      "patient_id           0\n",
      "date                 0\n",
      "week                 0\n",
      "duration             0\n",
      "pain_level           0\n",
      "exercise_type        0\n",
      "home_adherence_pc    0\n",
      "satisfaction         0\n",
      "therapist_id         0\n",
      "dtype: int64\n",
      "\n",
      "Missing Values in Feedback Data:\n",
      "feedback_id    0\n",
      "session_id     0\n",
      "comments       0\n",
      "sentiment      0\n",
      "dtype: int64\n"
     ]
    }
   ],
   "source": [
    "#5. Check for Missing Values in All Tables\n",
    "print(\"\\nMissing Values in Patients Data:\")\n",
    "print(patients_df.isnull().sum())\n",
    "\n",
    "print(\"\\nMissing Values in Sessions Data:\")\n",
    "print(sessions_df.isnull().sum())\n",
    "\n",
    "print(\"\\nMissing Values in Feedback Data:\")\n",
    "print(feedback_df.isnull().sum())\n",
    "\n"
   ]
  },
  {
   "cell_type": "code",
   "execution_count": 19,
   "id": "1b4e9918",
   "metadata": {},
   "outputs": [],
   "source": [
    "# 6. Clean Missing Values\n",
    "# Example of filling missing values for categorical and numerical data\n",
    "patients_df['chronic_cond'] = patients_df['chronic_cond'].fillna(patients_df['chronic_cond'].mode()[0])"
   ]
  },
  {
   "cell_type": "code",
   "execution_count": 20,
   "id": "70110f6f",
   "metadata": {},
   "outputs": [
    {
     "data": {
      "application/vnd.microsoft.datawrangler.viewer.v0+json": {
       "columns": [
        {
         "name": "index",
         "rawType": "object",
         "type": "string"
        },
        {
         "name": "0",
         "rawType": "int64",
         "type": "integer"
        }
       ],
       "ref": "6f5e6f6f-5357-4b8c-913d-556e70446f55",
       "rows": [
        [
         "patient_id",
         "0"
        ],
        [
         "age",
         "0"
        ],
        [
         "gender",
         "0"
        ],
        [
         "bmi",
         "0"
        ],
        [
         "smoker",
         "0"
        ],
        [
         "chronic_cond",
         "0"
        ],
        [
         "injury_type",
         "0"
        ],
        [
         "signup_date",
         "0"
        ],
        [
         "referral_source",
         "0"
        ],
        [
         "consent",
         "0"
        ],
        [
         "clinic_id",
         "0"
        ],
        [
         "insurance_type",
         "0"
        ]
       ],
       "shape": {
        "columns": 1,
        "rows": 12
       }
      },
      "text/plain": [
       "patient_id         0\n",
       "age                0\n",
       "gender             0\n",
       "bmi                0\n",
       "smoker             0\n",
       "chronic_cond       0\n",
       "injury_type        0\n",
       "signup_date        0\n",
       "referral_source    0\n",
       "consent            0\n",
       "clinic_id          0\n",
       "insurance_type     0\n",
       "dtype: int64"
      ]
     },
     "execution_count": 20,
     "metadata": {},
     "output_type": "execute_result"
    }
   ],
   "source": [
    "# check if null values has been properly handled\n",
    "patients_df.isnull().sum()"
   ]
  },
  {
   "cell_type": "code",
   "execution_count": 21,
   "id": "06b6fbe7",
   "metadata": {},
   "outputs": [
    {
     "name": "stdout",
     "output_type": "stream",
     "text": [
      "\n",
      "Missing Values in Clinics Data:\n",
      "clinic_id      0\n",
      "city           0\n",
      "country        0\n",
      "type           0\n",
      "postcode       0\n",
      "capacity       0\n",
      "staff_count    0\n",
      "speciality     0\n",
      "avg_rating     0\n",
      "dtype: int64\n",
      "\n",
      "Missing Values in Interventions Data:\n",
      "intervention_id    0\n",
      "patient_id         0\n",
      "sent_at            0\n",
      "channel            0\n",
      "message            0\n",
      "responded          0\n",
      "dtype: int64\n",
      "\n",
      "Missing Values in Dropout Data:\n",
      "patient_id         0\n",
      "dropout            0\n",
      "dropout_week    4919\n",
      "dtype: int64\n"
     ]
    }
   ],
   "source": [
    "print(\"\\nMissing Values in Clinics Data:\")\n",
    "print(clinics_df.isnull().sum())\n",
    "\n",
    "print(\"\\nMissing Values in Interventions Data:\")\n",
    "print(interventions_df.isnull().sum())\n",
    "\n",
    "print(\"\\nMissing Values in Dropout Data:\")\n",
    "print(dropout_df.isnull().sum())"
   ]
  },
  {
   "cell_type": "code",
   "execution_count": null,
   "id": "03bc804d",
   "metadata": {},
   "outputs": [],
   "source": []
  },
  {
   "cell_type": "markdown",
   "id": "eb59a240",
   "metadata": {},
   "source": [
    "#### E-3 - TASK 3 (Data Cleaning)\n",
    "- Identifying & Handling Duplicates\n"
   ]
  },
  {
   "cell_type": "code",
   "execution_count": 22,
   "id": "d32a66eb",
   "metadata": {},
   "outputs": [
    {
     "name": "stdout",
     "output_type": "stream",
     "text": [
      "🔍 Found 0 complete duplicate rows in patients_df\n",
      "🔍 Found 0 complete duplicate rows in sessions_df\n",
      "🔍 Found 0 complete duplicate rows in feedback_df\n",
      "🔍 Found 0 complete duplicate rows in clinics_df\n",
      "🔍 Found 0 complete duplicate rows in interventions_df\n",
      "🔍 Found 0 complete duplicate rows in dropout_df\n"
     ]
    }
   ],
   "source": [
    "# Check for complete duplicate rows\n",
    "dataframes = {\n",
    "    \"patients_df\": patients_df,\n",
    "    \"sessions_df\": sessions_df,\n",
    "    \"feedback_df\": feedback_df,\n",
    "    \"clinics_df\": clinics_df,\n",
    "    \"interventions_df\": interventions_df,\n",
    "    \"dropout_df\": dropout_df\n",
    "}\n",
    "\n",
    "for name, df in dataframes.items():\n",
    "    duplicates = df[df.duplicated()]\n",
    "    print(f\"🔍 Found {len(duplicates)} complete duplicate rows in {name}\")\n",
    "\n"
   ]
  },
  {
   "cell_type": "code",
   "execution_count": null,
   "id": "adecb129",
   "metadata": {},
   "outputs": [],
   "source": []
  },
  {
   "cell_type": "code",
   "execution_count": null,
   "id": "8075eac0",
   "metadata": {},
   "outputs": [],
   "source": []
  }
 ],
 "metadata": {
  "kernelspec": {
   "display_name": "med_env",
   "language": "python",
   "name": "python3"
  },
  "language_info": {
   "codemirror_mode": {
    "name": "ipython",
    "version": 3
   },
   "file_extension": ".py",
   "mimetype": "text/x-python",
   "name": "python",
   "nbconvert_exporter": "python",
   "pygments_lexer": "ipython3",
   "version": "3.12.4"
  }
 },
 "nbformat": 4,
 "nbformat_minor": 5
}
